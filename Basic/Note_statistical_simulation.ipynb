{
 "cells": [
  {
   "cell_type": "markdown",
   "metadata": {},
   "source": [
    "# Statistical Simulation"
   ]
  },
  {
   "cell_type": "markdown",
   "metadata": {},
   "source": [
    "## Random drawing: `np.random.choice()`\n",
    "- Like multinomial distribution\n",
    "### Throwing a fair dice 1000 times"
   ]
  },
  {
   "cell_type": "code",
   "execution_count": 1,
   "metadata": {},
   "outputs": [
    {
     "name": "stdout",
     "output_type": "stream",
     "text": [
      "[(1, 0.16666666666666666), (2, 0.16666666666666666), (3, 0.16666666666666666), (4, 0.16666666666666666), (5, 0.16666666666666666), (6, 0.16666666666666666)]\n"
     ]
    }
   ],
   "source": [
    "import numpy as np\n",
    "die, probabilites, throws = list(range(1,7)), [1/6]*6, 1000\n",
    "print(list(zip(die, probabilites)))"
   ]
  },
  {
   "cell_type": "code",
   "execution_count": 2,
   "metadata": {},
   "outputs": [
    {
     "name": "stdout",
     "output_type": "stream",
     "text": [
      "First 10 trials: [1 6 3 5 1 4 5 1 5 1]\n"
     ]
    }
   ],
   "source": [
    "outcome = np.random.choice(die, size = throws, p = probabilites)\n",
    "print(\"First 10 trials: {}\".format(outcome[:10]))"
   ]
  },
  {
   "cell_type": "markdown",
   "metadata": {},
   "source": [
    "### Drawing lottery\n",
    "- Bernoulli experiment"
   ]
  },
  {
   "cell_type": "code",
   "execution_count": 3,
   "metadata": {},
   "outputs": [
    {
     "name": "stdout",
     "output_type": "stream",
     "text": [
      "Outcome of one drawing of the lottery is [-50]\n"
     ]
    }
   ],
   "source": [
    "# Pre-defined constant variables\n",
    "lottery_ticket_cost, num_tickets, grand_prize = 50, 10000, 1000000\n",
    "\n",
    "# Probability of winning\n",
    "chance_of_winning = 1/num_tickets\n",
    "\n",
    "# Simulate a single drawing of the lottery\n",
    "gains = [-lottery_ticket_cost, grand_prize - lottery_ticket_cost]\n",
    "probability = [1 - chance_of_winning,  chance_of_winning]\n",
    "outcome = np.random.choice(a=gains, size=1, p=probability, replace=True)\n",
    "\n",
    "print(\"Outcome of one drawing of the lottery is {}\".format(outcome))"
   ]
  },
  {
   "cell_type": "code",
   "execution_count": 4,
   "metadata": {},
   "outputs": [
    {
     "name": "stdout",
     "output_type": "stream",
     "text": [
      "Average payoff from 10000 simulations = 150.0\n"
     ]
    }
   ],
   "source": [
    "# Simulate 10000 drawing of the lottery\n",
    "size = 10000\n",
    "outcomes = np.random.choice(a=gains, size=size, p=probability, replace=True)\n",
    "\n",
    "# Mean of outcomes.\n",
    "answer = np.mean(outcomes)\n",
    "print(\"Average payoff from {} simulations = {}\".format(size, answer))"
   ]
  },
  {
   "cell_type": "code",
   "execution_count": 5,
   "metadata": {},
   "outputs": [
    {
     "name": "stdout",
     "output_type": "stream",
     "text": [
      "The highest price at which it makes sense to buy the ticket is 0\n"
     ]
    }
   ],
   "source": [
    "# Initialize simulations and cost of ticket\n",
    "sims, lottery_ticket_cost = 5000, 0\n",
    "\n",
    "# Use a while loop to increment `lottery_ticket_cost` till average value of outcomes falls below zero\n",
    "while 1:\n",
    "    gains = [-lottery_ticket_cost, grand_prize - lottery_ticket_cost]\n",
    "    outcomes = np.random.choice(a=gains, size=sims, p=probability, replace=True)\n",
    "    if outcomes.mean() < 0:\n",
    "        break\n",
    "    else:\n",
    "        lottery_ticket_cost += 50\n",
    "answer = lottery_ticket_cost - 50\n",
    "\n",
    "print(\"The highest price at which it makes sense to buy the ticket is {}\".format(answer))"
   ]
  },
  {
   "cell_type": "markdown",
   "metadata": {},
   "source": [
    "## Probability calculation\n",
    "### Poker\n",
    "- `np.random.shuffle()`"
   ]
  },
  {
   "cell_type": "code",
   "execution_count": 6,
   "metadata": {},
   "outputs": [],
   "source": [
    "deck_of_cards = list(zip(['Heart']*13+['Club']*13+['Spade']*13+['Diamond']*13, list(range(1,14))*4))"
   ]
  },
  {
   "cell_type": "markdown",
   "metadata": {},
   "source": [
    "#### Probability of two of a kind"
   ]
  },
  {
   "cell_type": "code",
   "execution_count": 7,
   "metadata": {},
   "outputs": [
    {
     "name": "stdout",
     "output_type": "stream",
     "text": [
      "Probability of seeing at least two of a kind within 5 cards = 0.486 \n"
     ]
    }
   ],
   "source": [
    "# Shuffle deck & count card occurrences in the hand\n",
    "n_sims, two_kind = 10000, 0\n",
    "for i in range(n_sims):\n",
    "    np.random.shuffle(deck_of_cards)\n",
    "    hand, cards_in_hand = deck_of_cards[0:5], {}\n",
    "    for card in hand:\n",
    "        # Use .get() method on cards_in_hand\n",
    "        cards_in_hand[card[1]] = cards_in_hand.get(card[1],0) + 1\n",
    "    \n",
    "    # Condition for getting at least 2 of a kind\n",
    "    highest_card = max(cards_in_hand.values())\n",
    "    if highest_card>=2: \n",
    "       two_kind += 1\n",
    "\n",
    "print(\"Probability of seeing at least two of a kind within 5 cards = {} \".format(two_kind/n_sims))"
   ]
  },
  {
   "cell_type": "markdown",
   "metadata": {},
   "source": [
    "#### Probaility of Game of thirteen"
   ]
  },
  {
   "cell_type": "code",
   "execution_count": 8,
   "metadata": {},
   "outputs": [
    {
     "name": "stdout",
     "output_type": "stream",
     "text": [
      "Probability of winning = 0.3678\n"
     ]
    }
   ],
   "source": [
    "# Pre-set constant variables\n",
    "deck, sims, coincidences = np.arange(1, 14), 10000, 0\n",
    "\n",
    "for _ in range(sims):\n",
    "    # Draw all the cards without replacement to simulate one game\n",
    "    draw = np.random.choice(deck, size=13, replace=False)\n",
    "    # Check if there are any coincidences\n",
    "    if (draw == list(np.arange(1, 14))).any():  # coincidence = (draw == list(np.arange(1, 14))).any()\n",
    "        coincidences += 1\n",
    "\n",
    "# Calculate probability of winning\n",
    "print(\"Probability of winning = {}\".format(1 - coincidences/sims))"
   ]
  },
  {
   "cell_type": "markdown",
   "metadata": {},
   "source": [
    "#### Probability of full house"
   ]
  },
  {
   "cell_type": "code",
   "execution_count": 9,
   "metadata": {},
   "outputs": [
    {
     "data": {
      "text/plain": [
       "'Probability of seeing a full house = 0.00156'"
      ]
     },
     "execution_count": 9,
     "metadata": {},
     "output_type": "execute_result"
    }
   ],
   "source": [
    "#Shuffle deck & count card occurrences in the hand\n",
    "deck = list(zip(['Heart']*13+['Club']*13+['Spade']*13+['Diamond']*13, list(range(1,14))*4))\n",
    "\n",
    "n_sims, full_house, deck_of_cards = 50000, 0, deck.copy() \n",
    "for i in range(n_sims):\n",
    "    np.random.shuffle(deck_of_cards)\n",
    "    hand, cards_in_hand = deck_of_cards[0:5], {}\n",
    "    for card in hand:\n",
    "        # Use .get() method to count occurrences of each card\n",
    "        cards_in_hand[card[1]] = cards_in_hand.get(card[1], 0) + 1\n",
    "    # Condition for getting full house\n",
    "    if  (max(cards_in_hand.values())==3) & (min(cards_in_hand.values())==2): #condition = (max(cards_in_hand.values())==3) & (min(cards_in_hand.values())==2)\n",
    "        full_house += 1\n",
    "\n",
    "f'Probability of seeing a full house = {full_house/n_sims}'"
   ]
  },
  {
   "cell_type": "markdown",
   "metadata": {},
   "source": [
    "## Data Generating Process\n",
    "1. Define Possible Outcomes for Random Variables.\n",
    "2. Assign Probabilities.\n",
    "3. Define Relationships between Random Variables."
   ]
  },
  {
   "cell_type": "markdown",
   "metadata": {},
   "source": [
    "### Example: driving test"
   ]
  },
  {
   "cell_type": "code",
   "execution_count": 10,
   "metadata": {},
   "outputs": [
    {
     "name": "stdout",
     "output_type": "stream",
     "text": [
      "Probability of Passing the driving test = 0.603\n"
     ]
    }
   ],
   "source": [
    "sims, outcomes, p_rain, p_pass = 1000, [], 0.40, {'sun':0.9, 'rain':0.3}\n",
    "\n",
    "def test_outcome(p_rain):  \n",
    "    # Simulate whether it will rain or not\n",
    "    weather = np.random.choice(['rain', 'sun'], size=1, p=[p_rain, 1-p_rain])\n",
    "    # Simulate and return whether you will pass or fail\n",
    "    return 'pass' if weather[0] == 'sun' else 'fail'\n",
    "\n",
    "for _ in range(sims):\n",
    "    outcomes.append(test_outcome(p_rain))\n",
    "\n",
    "# Calculate fraction of outcomes where you pass\n",
    "print(\"Probability of Passing the driving test = {}\".format(outcomes.count('pass')/sims))"
   ]
  },
  {
   "cell_type": "markdown",
   "metadata": {},
   "source": [
    "### Example: eCommerce\n",
    "- Steps\n",
    "  1. Ad impression\n",
    "  2. Click\n",
    "  3. Sign-up\n",
    "  4. Purchase\n",
    "  \n",
    "#### Sign-up flow model    \n",
    "- Sign-up flow model\n",
    "  1. Ad impression ~ poisson(lambda) with lambda ~ Normal r.v.\n",
    "  2. Click ~ Bin(n = impressions, p = clickthrough rate)\n",
    "  3. Sign-up ~ Bin(n = clicks, p = sign-up rate)\n",
    "- function: `np.random.uniform()`, `np.random.normal()`, `np.random.poisson()`, `np.random.binomial()`\n",
    "  "
   ]
  },
  {
   "cell_type": "code",
   "execution_count": 11,
   "metadata": {},
   "outputs": [
    {
     "name": "stdout",
     "output_type": "stream",
     "text": [
      "Simulated Signups = [270]\n"
     ]
    }
   ],
   "source": [
    "# Initialize click-through rate and signup rate dictionaries\n",
    "ct_rate = {'low':0.01, 'high':np.random.uniform(low=0.01, high=1.2*0.01)}\n",
    "su_rate = {'low':0.2, 'high':np.random.uniform(low=0.2, high=1.2*0.2)}\n",
    "\n",
    "def get_signups(cost, ct_rate, su_rate, sims):\n",
    "    lam = np.random.normal(loc=100000, scale=2000, size=sims)\n",
    "    # Simulate impressions(poisson), clicks(binomial) and signups(binomial)\n",
    "    impressions = np.random.poisson(lam)\n",
    "    clicks = np.random.binomial(n=impressions, p=ct_rate[cost])\n",
    "    signups = np.random.binomial(n=clicks, p=su_rate[cost])\n",
    "    return signups\n",
    "\n",
    "print(\"Simulated Signups = {}\".format(get_signups('high', ct_rate, su_rate, 1)))"
   ]
  },
  {
   "cell_type": "markdown",
   "metadata": {},
   "source": [
    "#### Purchase flow model    \n",
    "- flow\n",
    "    1. Sign-up ~ Bin(n = clicks, p = sign-up rate)\n",
    "    2. Purchase ~ Bin(n = Sign-up, p = purchase rate)\n",
    "    3. Purchase value ~ Exp(avgerage purchase value)\n",
    "\n",
    "- function: `np.random.exponential()`, `np.random.poisson()`, `np.random.binomial()`\n",
    "  "
   ]
  },
  {
   "cell_type": "code",
   "execution_count": 12,
   "metadata": {},
   "outputs": [
    {
     "name": "stdout",
     "output_type": "stream",
     "text": [
      "Simulated Revenue = $19788.228\n"
     ]
    }
   ],
   "source": [
    "def get_revenue(signups):\n",
    "    rev = []\n",
    "    np.random.seed(123)\n",
    "    for s in signups:\n",
    "        # Model purchases as binomial, purchase_values as exponential\n",
    "        purchases = np.random.binomial(s, p=0.1)\n",
    "        purchase_values = np.random.exponential(size=purchases,scale=1000)\n",
    "        \n",
    "        # Append to revenue the sum of all purchase values.\n",
    "        rev.append(purchase_values.sum())\n",
    "    return rev\n",
    "\n",
    "print(\"Simulated Revenue = ${:4.3f}\".format(get_revenue(get_signups('low', ct_rate, su_rate, 1))[0]))"
   ]
  },
  {
   "cell_type": "markdown",
   "metadata": {},
   "source": [
    "#### Probability of losing money b/w high and low costs"
   ]
  },
  {
   "cell_type": "code",
   "execution_count": 13,
   "metadata": {},
   "outputs": [
    {
     "name": "stdout",
     "output_type": "stream",
     "text": [
      "Probability of losing money = 0.3767\n"
     ]
    }
   ],
   "source": [
    "# Initialize cost_diff\n",
    "sims, cost_diff = 10000, 3000\n",
    "\n",
    "# Get revenue when the cost is 'low' and when the cost is 'high'\n",
    "rev_low = get_revenue(get_signups('low', ct_rate, su_rate, sims))\n",
    "rev_high = get_revenue(get_signups('high', ct_rate, su_rate, sims))\n",
    "\n",
    "# calculate fraction of times rev_high - rev_low is less than cost_diff\n",
    "print(\"Probability of losing money = {}\".format(((np.asarray(rev_high) - np.asarray(rev_low)) < cost_diff).mean()))"
   ]
  },
  {
   "cell_type": "markdown",
   "metadata": {},
   "source": [
    "## Resampling\n",
    "### Bootstrapping\n",
    "- Sampling with replacement\n",
    "- Pratical thinking\n",
    "    - Run at least 5-10k iterations\n",
    "    - Expect an approximate answer\n",
    "    - Consider bias correction"
   ]
  },
  {
   "cell_type": "code",
   "execution_count": 14,
   "metadata": {},
   "outputs": [
    {
     "name": "stdout",
     "output_type": "stream",
     "text": [
      "Bootstrapped Mean Length = 42.96121255453939, 95% CI = [ 37.95149689  48.27315347]\n"
     ]
    }
   ],
   "source": [
    "wrench_lengths = np.random.uniform(0, 100, 100)\n",
    "# Draw some random sample with replacement and append mean to mean_lengths.\n",
    "mean_lengths, sims = [], 1000\n",
    "for i in range(sims):\n",
    "    temp_sample = np.random.choice(wrench_lengths, replace=True, size=len(wrench_lengths))\n",
    "    sample_mean = np.mean(temp_sample)\n",
    "    mean_lengths.append(sample_mean)\n",
    "    \n",
    "# Calculate bootstrapped mean and 95% confidence interval.\n",
    "print(\"Bootstrapped Mean Length = {}, 95% CI = {}\".format(np.mean(mean_lengths), np.percentile(mean_lengths, [2.5, 97.5])))"
   ]
  },
  {
   "cell_type": "markdown",
   "metadata": {},
   "source": [
    "##### Example: Regression\n",
    "- function: `np.random.multivariate_normal()`"
   ]
  },
  {
   "cell_type": "code",
   "execution_count": 15,
   "metadata": {},
   "outputs": [
    {
     "data": {
      "text/html": [
       "<div>\n",
       "<style scoped>\n",
       "    .dataframe tbody tr th:only-of-type {\n",
       "        vertical-align: middle;\n",
       "    }\n",
       "\n",
       "    .dataframe tbody tr th {\n",
       "        vertical-align: top;\n",
       "    }\n",
       "\n",
       "    .dataframe thead th {\n",
       "        text-align: right;\n",
       "    }\n",
       "</style>\n",
       "<table border=\"1\" class=\"dataframe\">\n",
       "  <thead>\n",
       "    <tr style=\"text-align: right;\">\n",
       "      <th></th>\n",
       "      <th>x</th>\n",
       "      <th>y</th>\n",
       "    </tr>\n",
       "  </thead>\n",
       "  <tbody>\n",
       "    <tr>\n",
       "      <th>0</th>\n",
       "      <td>3.881370</td>\n",
       "      <td>13.332820</td>\n",
       "    </tr>\n",
       "    <tr>\n",
       "      <th>1</th>\n",
       "      <td>1.376910</td>\n",
       "      <td>17.365830</td>\n",
       "    </tr>\n",
       "    <tr>\n",
       "      <th>2</th>\n",
       "      <td>2.395083</td>\n",
       "      <td>8.833141</td>\n",
       "    </tr>\n",
       "    <tr>\n",
       "      <th>3</th>\n",
       "      <td>-0.746162</td>\n",
       "      <td>6.710722</td>\n",
       "    </tr>\n",
       "    <tr>\n",
       "      <th>4</th>\n",
       "      <td>4.037550</td>\n",
       "      <td>15.983923</td>\n",
       "    </tr>\n",
       "  </tbody>\n",
       "</table>\n",
       "</div>"
      ],
      "text/plain": [
       "          x          y\n",
       "0  3.881370  13.332820\n",
       "1  1.376910  17.365830\n",
       "2  2.395083   8.833141\n",
       "3 -0.746162   6.710722\n",
       "4  4.037550  15.983923"
      ]
     },
     "metadata": {},
     "output_type": "display_data"
    },
    {
     "data": {
      "text/plain": [
       "<matplotlib.axes._subplots.AxesSubplot at 0x7f866323f588>"
      ]
     },
     "execution_count": 15,
     "metadata": {},
     "output_type": "execute_result"
    },
    {
     "data": {
      "image/png": "[encoded data removed]",
      "text/plain": [
       "<Figure size 432x288 with 1 Axes>"
      ]
     },
     "metadata": {},
     "output_type": "display_data"
    }
   ],
   "source": [
    "% matplotlib inline\n",
    "import pandas as pd\n",
    "df = pd.DataFrame(np.random.multivariate_normal([2,10], [[1, 0.5], [0.5, 10]], 100) + np.random.normal(0,1,[100,2]), columns=['x', 'y'])\n",
    "display(df.head())\n",
    "\n",
    "df.plot.scatter('x','y')"
   ]
  },
  {
   "cell_type": "code",
   "execution_count": 16,
   "metadata": {},
   "outputs": [
    {
     "name": "stdout",
     "output_type": "stream",
     "text": [
      "R Squared 95% CI = [ 0.60884914  0.74800437]\n"
     ]
    }
   ],
   "source": [
    "import statsmodels.formula.api as smf\n",
    "rsquared_boot, coefs_boot, sims = [], [], 1000\n",
    "reg_fit = smf.OLS(df['y'], df.iloc[:,0]).fit()\n",
    "\n",
    "# Run 1K iterations\n",
    "for i in range(sims):\n",
    "    # First create a bootstrap sample with replacement with n=df.shape[0]\n",
    "    bootstrap = df.sample(n=df.shape[0], replace=True)\n",
    "    # Fit the regression and append the r square to rsquared_boot\n",
    "    rsquared_boot.append(smf.OLS(bootstrap['y'],bootstrap.iloc[:,0]).fit().rsquared)\n",
    "\n",
    "# Calculate 95% CI on rsquared_boot\n",
    "print(\"R Squared 95% CI = {}\".format(np.percentile(rsquared_boot, [2.5, 97.5])))"
   ]
  },
  {
   "cell_type": "markdown",
   "metadata": {},
   "source": [
    "### Jackknife\n",
    "- leave one out\n",
    "- Jackknife estimator\n",
    "$$\\hat{\\theta}_{\\mbox{jack}} = \\frac{1}{M}\\sum_{m=1}^M \\hat{\\theta}_m$$\n",
    "- Variance\n",
    "$$Var(\\hat{\\theta}_{\\mbox{jack}}) = \\frac{M-1}{M}\\sum_{m=1}^M (\\hat{\\theta}_m - \\hat{\\theta}_{\\mbox{jack}})^2$$"
   ]
  },
  {
   "cell_type": "code",
   "execution_count": 17,
   "metadata": {},
   "outputs": [
    {
     "name": "stdout",
     "output_type": "stream",
     "text": [
      "Jackknife estimate of the mean = 42.937128021277\n"
     ]
    }
   ],
   "source": [
    "# Leave one observation out from wrench_lengths to get the jackknife sample and store the mean length\n",
    "mean_lengths, n = [], len(wrench_lengths)\n",
    "index = np.arange(n)\n",
    "\n",
    "for i in range(n):\n",
    "    jk_sample = wrench_lengths[index!=i]\n",
    "    mean_lengths.append(np.mean(jk_sample))\n",
    "\n",
    "# The jackknife estimate is the mean of the mean lengths from each sample\n",
    "mean_lengths = np.array(mean_lengths)\n",
    "print(\"Jackknife estimate of the mean = {}\".format(mean_lengths.mean()))"
   ]
  },
  {
   "cell_type": "code",
   "execution_count": 18,
   "metadata": {},
   "outputs": [
    {
     "name": "stdout",
     "output_type": "stream",
     "text": [
      "Jackknife 95% CI lower = 18.873813380236612, upper = 62.91188654178991\n"
     ]
    }
   ],
   "source": [
    "# Leave one observation out to get the jackknife sample and store the median length\n",
    "median_lengths = []\n",
    "for i in range(n):\n",
    "    jk_sample = wrench_lengths[index != i]\n",
    "    median_lengths.append(np.median(jk_sample))\n",
    "\n",
    "median_lengths = np.array(median_lengths)\n",
    "\n",
    "# Calculate jackknife estimate and it's variance\n",
    "jk_median_length = np.mean(median_lengths)\n",
    "jk_var = (n-1)*np.var(median_lengths)\n",
    "\n",
    "# Assuming normality, calculate lower and upper 95% confidence intervals\n",
    "print(\"Jackknife 95% CI lower = {}, upper = {}\".format(jk_median_length - 1.96*np.sqrt(jk_var), jk_median_length + 1.96*np.sqrt(jk_var)))"
   ]
  },
  {
   "cell_type": "markdown",
   "metadata": {},
   "source": [
    "## Permutation test\n",
    "- pros\n",
    "   1. Very flexible\n",
    "   2. No strict assumptions\n",
    "   3. Widely applicable\n",
    "- cons\n",
    "   1. Computationally Expensive\n",
    "   2. Custom coding required"
   ]
  },
  {
   "cell_type": "code",
   "execution_count": 19,
   "metadata": {},
   "outputs": [
    {
     "name": "stdout",
     "output_type": "stream",
     "text": [
      "Difference in the permuted mean values = 0.38620251060556754.\n"
     ]
    }
   ],
   "source": [
    "donations_A = np.random.normal(10, 2, 100)\n",
    "donations_B = np.random.normal(10.5, 1, 100)\n",
    "\n",
    "# Concatenate the two arrays donations_A and donations_B into data\n",
    "len_A, len_B = len(donations_A), len(donations_B)\n",
    "data = np.concatenate([donations_A, donations_B])\n",
    "\n",
    "# Get a single permutation of the concatenated length\n",
    "perm = np.random.permutation(len(donations_A) + len(donations_B))\n",
    "\n",
    "# Calculate the permutated datasets and difference in means\n",
    "permuted_A = data[perm[:len(donations_A)]]\n",
    "permuted_B = data[perm[len(donations_A):]]\n",
    "print(\"Difference in the permuted mean values = {}.\".format(permuted_A.mean() - permuted_B.mean()))"
   ]
  },
  {
   "cell_type": "code",
   "execution_count": 20,
   "metadata": {},
   "outputs": [
    {
     "name": "stdout",
     "output_type": "stream",
     "text": [
      "p-value = 0.3282\n"
     ]
    }
   ],
   "source": [
    "sims = 10000\n",
    "# Generate permutations equal to the number of repetitions\n",
    "perm = np.array([np.random.permutation(len(donations_A) + len(donations_B)) for i in range(sims)])\n",
    "permuted_A_datasets = data[perm[:, :len(donations_A)]]\n",
    "permuted_B_datasets = data[perm[:, len(donations_A):]]\n",
    "\n",
    "# Calculate the difference in means for each of the datasets\n",
    "samples = np.mean(permuted_A_datasets,axis=1)- np.mean(permuted_B_datasets,axis=1)\n",
    "# Calculate the test statistic and p-value\n",
    "test_stat = np.mean(donations_A) - np.mean(donations_B)\n",
    "print(\"p-value = {}\".format(2*np.sum(samples >= np.abs(test_stat))/sims))"
   ]
  },
  {
   "cell_type": "code",
   "execution_count": 21,
   "metadata": {},
   "outputs": [
    {
     "name": "stdout",
     "output_type": "stream",
     "text": [
      "80th Percentile: test statistic = 0.42998708488181947, p-value = 0.0364\n",
      "Median: test statistic = -0.20436728891112743, p-value = 0.3054\n"
     ]
    }
   ],
   "source": [
    "# Calculate the difference in 80th percentile and median for each of the permuted datasets (A and B)\n",
    "samples_percentile = np.percentile(permuted_A_datasets, axis=1,q=80)-np.percentile(permuted_B_datasets, axis=1, q=80)\n",
    "samples_median = np.percentile(permuted_A_datasets, axis=1,q=50)-np.percentile(permuted_B_datasets, axis=1, q=50)\n",
    "\n",
    "# Calculate the test statistic from the original dataset and corresponding p-values\n",
    "test_stat_percentile = np.percentile(donations_A, q=80) - np.percentile(donations_B, q=80)\n",
    "test_stat_median = np.median(donations_A) - np.median(donations_B)\n",
    "\n",
    "print(\"80th Percentile: test statistic = {}, p-value = {}\".format(test_stat_percentile, 2*np.sum(samples_percentile >= np.abs(test_stat_percentile))/sims))\n",
    "print(\"Median: test statistic = {}, p-value = {}\".format(test_stat_median, 2*np.sum(samples_median >= np.abs(test_stat_median))/sims))"
   ]
  },
  {
   "cell_type": "markdown",
   "metadata": {},
   "source": [
    "## Application\n",
    "### Monte-Carlo Integration\n",
    "- Step for a single function $f(x)$\n",
    "    1. Get the limits of the x-axis (xmin,xmax) and y-axis $(\\max(f(x)),\\min(\\min(f(x)),0))$.\n",
    "    2. Generate a number of uniformly distributed point in this box.\n",
    "    3. Multiply the area of the box $(((\\max(f(x)−\\min(f(x))×(xmax−xmin))$ by the fraction of points that lie below f(x)."
   ]
  },
  {
   "cell_type": "code",
   "execution_count": 22,
   "metadata": {},
   "outputs": [
    {
     "name": "stdout",
     "output_type": "stream",
     "text": [
      "Simulated answer = 1.3223881036366358, Actual Answer = 1\n"
     ]
    }
   ],
   "source": [
    "# Define the sim_integrate function\n",
    "def sim_integrate(func, xmin, xmax, sims):\n",
    "    x = np.random.uniform(xmin, xmax, sims)\n",
    "    y = np.random.uniform(min(min(func(x)),0), max(func(x)), sims)\n",
    "    area = (max(y) - min(y))*(xmax-xmin)\n",
    "    result = area * sum(abs(y) < abs(func(x)))/sims\n",
    "    return result\n",
    "    \n",
    "# Call the sim_integrate function and print results\n",
    "result = sim_integrate(func = lambda x: x*np.exp(x), xmin = 0, xmax = 1, sims = 50)\n",
    "print(\"Simulated answer = {}, Actual Answer = 1\".format(result))"
   ]
  },
  {
   "cell_type": "markdown",
   "metadata": {},
   "source": [
    "### Statistical power\n",
    "- power = P(rejecting Null∣true alternative)\n",
    "- Probability of detecting an effect if it exists.\n",
    "- Depends on sample size, α and effect size.\n",
    "- Typically 80% power recommended for $\\alpha = 0.05$"
   ]
  },
  {
   "cell_type": "code",
   "execution_count": 23,
   "metadata": {},
   "outputs": [
    {
     "name": "stdout",
     "output_type": "stream",
     "text": [
      "P-value: 0.8419305083623946, Statistically Significant? False\n"
     ]
    }
   ],
   "source": [
    "import scipy.stats as st\n",
    "# Initialize effect_size, control_mean, control_sd\n",
    "effect_size, sample_size, control_mean, control_sd = 0.05, 50, 1, 0.5\n",
    "\n",
    "# Simulate control_time_spent and treatment_time_spent, assuming equal variance\n",
    "control_time_spent = np.random.normal(loc=control_mean, scale=control_sd, size=sample_size)\n",
    "treatment_time_spent = np.random.normal(loc=control_mean*(1+effect_size), scale=control_sd, size=sample_size)\n",
    "\n",
    "# Run the t-test and get the p_value\n",
    "t_stat, p_value = st.ttest_ind(control_time_spent, treatment_time_spent)\n",
    "print(\"P-value: {}, Statistically Significant? {}\".format(p_value, p_value < 0.05))"
   ]
  },
  {
   "cell_type": "code",
   "execution_count": 24,
   "metadata": {},
   "outputs": [
    {
     "name": "stdout",
     "output_type": "stream",
     "text": [
      "For 80% power, sample size required = 1530\n"
     ]
    }
   ],
   "source": [
    "sample_size = 50\n",
    "sims = 1000\n",
    "# Keep incrementing sample size by 10 till we reach required power\n",
    "while 1:\n",
    "    control_time_spent = np.random.normal(loc=control_mean, scale=control_sd, size=[sample_size,sims])\n",
    "    treatment_time_spent = np.random.normal(loc=control_mean*(1+effect_size), scale=control_sd, size=[sample_size,sims])\n",
    "    t, p = st.ttest_ind(treatment_time_spent, control_time_spent)\n",
    "    \n",
    "    # Power is the fraction of times in the simulation when the p-value was less than 0.05\n",
    "    power = (p < 0.05).sum()/sims\n",
    "    if power >= 0.8: \n",
    "        break\n",
    "    else: \n",
    "        sample_size += 10\n",
    "print(\"For 80% power, sample size required = {}\".format(sample_size))"
   ]
  },
  {
   "cell_type": "markdown",
   "metadata": {},
   "source": [
    "### Portfolio return"
   ]
  },
  {
   "cell_type": "code",
   "execution_count": 25,
   "metadata": {},
   "outputs": [
    {
     "name": "stdout",
     "output_type": "stream",
     "text": [
      "Portfolio return after 5 years = 1717.1692779684754\n"
     ]
    }
   ],
   "source": [
    "# rates is a Normal random variable and has size equal to number of years\n",
    "def portfolio_return(yrs, avg_return, volatility, principal):\n",
    "    rates = np.random.normal(loc=avg_return, scale= volatility, size=yrs)\n",
    "    # Calculate the return at the end of the period\n",
    "    end_return = principal\n",
    "    for x in rates:\n",
    "        end_return += end_return*x\n",
    "    return end_return\n",
    "\n",
    "result = portfolio_return(yrs = 5, avg_return = 0.07, volatility = 0.15, principal = 1000)\n",
    "print(\"Portfolio return after 5 years = {}\".format(result))"
   ]
  },
  {
   "cell_type": "code",
   "execution_count": 26,
   "metadata": {},
   "outputs": [
    {
     "name": "stdout",
     "output_type": "stream",
     "text": [
      "95% CI of Returns: Lower = 751.3573612023818, Upper = 4361.998694376244\n"
     ]
    }
   ],
   "source": [
    "# Run 1,000 iterations and store the results\n",
    "rets = []\n",
    "for i in range(sims):\n",
    "    rets.append(portfolio_return(yrs = 10,\n",
    "                                 avg_return = 0.07, \n",
    "                                 volatility = 0.15, \n",
    "                                 principal = 1000))\n",
    "\n",
    "# Calculate the 95% CI\n",
    "print(\"95% CI of Returns: Lower = {}, Upper = {}\".format(np.percentile(rets, 2.5), np.percentile(rets, 97.5)))"
   ]
  },
  {
   "cell_type": "code",
   "execution_count": 27,
   "metadata": {},
   "outputs": [
    {
     "name": "stdout",
     "output_type": "stream",
     "text": [
      "Sticking to stocks gets you an additional return of -4807.147119990249\n"
     ]
    }
   ],
   "source": [
    "rets_stock, rets_bond = [],[]\n",
    "for i in range(sims):\n",
    "    rets_stock.append(portfolio_return(yrs = 10, avg_return = 0.07, volatility = 0.3, principal = 10000))\n",
    "    rets_bond.append(portfolio_return(yrs = 10, avg_return = 0.04, volatility = 0.1, principal = 10000))\n",
    "\n",
    "# Calculate the 25th percentile of the distributions and the amount you'd lose or gain\n",
    "rets_stock_perc = np.percentile(rets_stock, 25)\n",
    "rets_bond_perc = np.percentile(rets_bond, 25)\n",
    "print(\"Sticking to stocks gets you an additional return of {}\".format(rets_stock_perc - rets_bond_perc))"
   ]
  }
 ],
 "metadata": {
  "kernelspec": {
   "display_name": "Python 3",
   "language": "python",
   "name": "python3"
  },
  "language_info": {
   "codemirror_mode": {
    "name": "ipython",
    "version": 3
   },
   "file_extension": ".py",
   "mimetype": "text/x-python",
   "name": "python",
   "nbconvert_exporter": "python",
   "pygments_lexer": "ipython3",
   "version": "3.6.3"
  }
 },
 "nbformat": 4,
 "nbformat_minor": 2
}
