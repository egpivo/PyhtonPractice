{
 "cells": [
  {
   "cell_type": "markdown",
   "metadata": {},
   "source": [
    "# Write a simple function"
   ]
  },
  {
   "cell_type": "markdown",
   "metadata": {},
   "source": [
    "## Case 1: without arguments\n",
    "\n",
    "This is to concatenate the string \"Hello World\" with \"~\"."
   ]
  },
  {
   "cell_type": "code",
   "execution_count": 9,
   "metadata": {
    "collapsed": false,
    "scrolled": true
   },
   "outputs": [
    {
     "name": "stdout",
     "output_type": "stream",
     "text": [
      "Hello World~\n"
     ]
    }
   ],
   "source": [
    "# Define the function shout1\n",
    "def shout1():\n",
    "    \"\"\"Print a string with three exclamation marks\"\"\"\n",
    "    # Concatenate the strings: shoutWord\n",
    "    shoutWord = 'Hello World' + '~'\n",
    "\n",
    "    # Print shoutWord\n",
    "    print(shoutWord)\n",
    "\n",
    "# Call shout\n",
    "shout1()"
   ]
  },
  {
   "cell_type": "markdown",
   "metadata": {},
   "source": [
    "## Case 2: with one argument\n",
    "Following the case, rewrite the function with a single input argument."
   ]
  },
  {
   "cell_type": "code",
   "execution_count": 10,
   "metadata": {
    "collapsed": false
   },
   "outputs": [
    {
     "name": "stdout",
     "output_type": "stream",
     "text": [
      "Hello world~\n"
     ]
    }
   ],
   "source": [
    "# Define shout2 with the argument, word\n",
    "def shout2(word):\n",
    "    \"\"\"Print a string with three exclamation marks\"\"\"\n",
    "    # Concatenate the strings: shoutWord\n",
    "    shoutWord = word + '~'\n",
    "\n",
    "    # Print shoutWord\n",
    "    print(shoutWord)\n",
    "\n",
    "# Call shout with the string 'Hello world'\n",
    "shout2('Hello world')\n"
   ]
  },
  {
   "cell_type": "markdown",
   "metadata": {},
   "source": [
    "## Case 3: with two arguments\n",
    "Rewrite the above function as two input arguments."
   ]
  },
  {
   "cell_type": "code",
   "execution_count": 11,
   "metadata": {
    "collapsed": false
   },
   "outputs": [
    {
     "data": {
      "text/plain": [
       "'Hello world~everyone!!!'"
      ]
     },
     "execution_count": 11,
     "metadata": {},
     "output_type": "execute_result"
    }
   ],
   "source": [
    "def shout3(word1, word2):\n",
    "    \"\"\"Concatenate strings with three exclamation marks\"\"\"\n",
    "    # Concatenate word1 with '~': shoutWord1\n",
    "    shoutWord1 = word1 + '~'\n",
    "    \n",
    "    # Concatenate word2 with '!!!': shoutWord2\n",
    "    shoutWord2 = word2 + '!!!'\n",
    "    \n",
    "    # Concatenate shout1 with shout2: shoutCombined\n",
    "    shoutCombined = shoutWord1 + shoutWord2\n",
    "\n",
    "    # Return shoutCombined\n",
    "    return shoutCombined\n",
    "\n",
    "# Print 'Hello world' and 'everyone' to shout3()\n",
    "shout3('Hello world', 'everyone')\n"
   ]
  },
  {
   "cell_type": "markdown",
   "metadata": {},
   "source": [
    "## Example: count entries\n",
    "This is to count entries of the input file."
   ]
  },
  {
   "cell_type": "code",
   "execution_count": 12,
   "metadata": {
    "collapsed": false
   },
   "outputs": [
    {
     "name": "stdout",
     "output_type": "stream",
     "text": [
      "{nan: 28, u'\\u5317\\u6295\\u5340': 53}\n"
     ]
    }
   ],
   "source": [
    "# Define countEntries()\n",
    "def countEntries(df, colName):\n",
    "    \"\"\"Return a dictionary with counts of \n",
    "    occurrences as value for each key.\"\"\"\n",
    "\n",
    "    # Initialize an empty dictionary: langsCount\n",
    "    langsCount = {}\n",
    "    \n",
    "    # Extract column from DataFrame: col\n",
    "    col = df[colName]\n",
    "    \n",
    "    # Iterate over lang column in dataframe\n",
    "    for entry in col:\n",
    "\n",
    "        # If the language is in langsCount, add 1\n",
    "        if entry in langsCount.keys():\n",
    "            langsCount[entry] += 1\n",
    "        # Else add the language to langsCount, set the value to 1\n",
    "        else:\n",
    "            langsCount[entry] = 1\n",
    "\n",
    "    # Return the langsCount dictionary\n",
    "    return langsCount\n",
    "\n",
    "# Import pandas\n",
    "import pandas as pd\n",
    "\n",
    "# Import test data as dataframe: df\n",
    "df = pd.read_csv('test.CSV', encoding = 'utf8')\n",
    "\n",
    "# Call countEntries(): result\n",
    "result = countEntries(df, 'area')\n",
    "\n",
    "# Print the result\n",
    "print(result)\n"
   ]
  }
 ],
 "metadata": {
  "anaconda-cloud": {},
  "kernelspec": {
   "display_name": "Python [conda root]",
   "language": "python",
   "name": "conda-root-py"
  },
  "language_info": {
   "codemirror_mode": {
    "name": "ipython",
    "version": 2
   },
   "file_extension": ".py",
   "mimetype": "text/x-python",
   "name": "python",
   "nbconvert_exporter": "python",
   "pygments_lexer": "ipython2",
   "version": "2.7.12"
  }
 },
 "nbformat": 4,
 "nbformat_minor": 1
}
