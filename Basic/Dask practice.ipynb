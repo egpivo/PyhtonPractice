{
 "cells": [
  {
   "cell_type": "markdown",
   "metadata": {},
   "source": [
    "# Dask  Notes\n",
    "\n",
    "## Understanding Computer Storage & Big Data\n",
    " - Binary computers: base 2:\n",
    "    - Binary digit (bit)\n",
    "    - Byte: $2^3$ bits = 8 bits\n",
    "    - Kilobyte: $2^{10}$ Bytes\n",
    "    - Megabyte: $2^{20}$ Bytes\n",
    "    - Gigabyte: $2^{30}$ Bytes\n",
    "    - Terabyte: $2^{40}$ Bytes\n",
    "    \n",
    "- Storage\n",
    "    - hard disk: permanent, big, slow\n",
    "        - access time (med) \n",
    "            - solid-state disk: 50-150$\\mu$s\n",
    "            - rational disk: 1-10 ms\n",
    "    - random access memory: temporary, small, fast\n",
    "        - access time (med): 120 ns\n",
    "    - c.f internet\n",
    "        - 40 ms\n",
    "        \n",
    "- How Big is Big Data?\n",
    "    - Data fits in RAM (random access memory)?\n",
    "    - Data fits on hard disk?"
   ]
  },
  {
   "cell_type": "code",
   "execution_count": 1,
   "metadata": {},
   "outputs": [],
   "source": [
    "# install pkg if not exist\n",
    "import pip\n",
    "\n",
    "def import_or_install(package):\n",
    "    try:\n",
    "        __import__(package)\n",
    "    except ImportError:\n",
    "        pip.main(['install', package])  "
   ]
  },
  {
   "cell_type": "markdown",
   "metadata": {},
   "source": [
    "## Querying Python's interpreter memory usage"
   ]
  },
  {
   "cell_type": "code",
   "execution_count": 2,
   "metadata": {},
   "outputs": [
    {
     "name": "stdout",
     "output_type": "stream",
     "text": [
      "Collecting psutil\n",
      "  Downloading https://files.pythonhosted.org/packages/e3/58/0eae6e4466e5abf779d7e2b71fac7fba5f59e00ea36ddb3ed690419ccb0f/psutil-5.4.8.tar.gz (422kB)\n",
      "Building wheels for collected packages: psutil\n",
      "  Running setup.py bdist_wheel for psutil: started\n",
      "  Running setup.py bdist_wheel for psutil: finished with status 'done'\n",
      "  Stored in directory: /home/jovyan/.cache/pip/wheels/d2/71/40/9c6993129f8cda369d0f21c46a13a6adab7fb1664fe6512551\n",
      "Successfully built psutil\n",
      "Installing collected packages: psutil\n",
      "Successfully installed psutil-5.4.8\n"
     ]
    },
    {
     "name": "stderr",
     "output_type": "stream",
     "text": [
      "You are using pip version 9.0.3, however version 18.1 is available.\n",
      "You should consider upgrading via the 'pip install --upgrade pip' command.\n"
     ]
    },
    {
     "name": "stdout",
     "output_type": "stream",
     "text": [
      "current memory usage is 69.20 MB\n"
     ]
    }
   ],
   "source": [
    "import_or_install(\"psutil\")\n",
    "import psutil, os\n",
    "\n",
    "def memory_footprint():\n",
    "    '''Return memory in (MB) being used by Python process'''\n",
    "    memory = psutil.Process(os.getpid()).memory_info().rss\n",
    "    return(memory / 1024**2)\n",
    "\n",
    "print(\"current memory usage is %.2f MB\"%(memory_footprint()))"
   ]
  },
  {
   "cell_type": "code",
   "execution_count": 3,
   "metadata": {},
   "outputs": [],
   "source": [
    "import pandas as pd\n",
    "filename = '/home/jovyan/work/WDI_csv/WDIData.csv'\n",
    "data = pd.read_csv(filename)"
   ]
  },
  {
   "cell_type": "code",
   "execution_count": 4,
   "metadata": {},
   "outputs": [
    {
     "data": {
      "text/plain": [
       "(422400, 63)"
      ]
     },
     "metadata": {},
     "output_type": "display_data"
    },
    {
     "data": {
      "text/html": [
       "<div>\n",
       "<style scoped>\n",
       "    .dataframe tbody tr th:only-of-type {\n",
       "        vertical-align: middle;\n",
       "    }\n",
       "\n",
       "    .dataframe tbody tr th {\n",
       "        vertical-align: top;\n",
       "    }\n",
       "\n",
       "    .dataframe thead th {\n",
       "        text-align: right;\n",
       "    }\n",
       "</style>\n",
       "<table border=\"1\" class=\"dataframe\">\n",
       "  <thead>\n",
       "    <tr style=\"text-align: right;\">\n",
       "      <th></th>\n",
       "      <th>Country Name</th>\n",
       "      <th>Country Code</th>\n",
       "      <th>Indicator Name</th>\n",
       "      <th>Indicator Code</th>\n",
       "      <th>Year</th>\n",
       "      <th>value</th>\n",
       "    </tr>\n",
       "  </thead>\n",
       "  <tbody>\n",
       "    <tr>\n",
       "      <th>0</th>\n",
       "      <td>Arab World</td>\n",
       "      <td>ARB</td>\n",
       "      <td>2005 PPP conversion factor, GDP (LCU per inter...</td>\n",
       "      <td>PA.NUS.PPP.05</td>\n",
       "      <td>1960</td>\n",
       "      <td>NaN</td>\n",
       "    </tr>\n",
       "    <tr>\n",
       "      <th>1</th>\n",
       "      <td>Arab World</td>\n",
       "      <td>ARB</td>\n",
       "      <td>2005 PPP conversion factor, private consumptio...</td>\n",
       "      <td>PA.NUS.PRVT.PP.05</td>\n",
       "      <td>1960</td>\n",
       "      <td>NaN</td>\n",
       "    </tr>\n",
       "    <tr>\n",
       "      <th>2</th>\n",
       "      <td>Arab World</td>\n",
       "      <td>ARB</td>\n",
       "      <td>Access to clean fuels and technologies for coo...</td>\n",
       "      <td>EG.CFT.ACCS.ZS</td>\n",
       "      <td>1960</td>\n",
       "      <td>NaN</td>\n",
       "    </tr>\n",
       "    <tr>\n",
       "      <th>3</th>\n",
       "      <td>Arab World</td>\n",
       "      <td>ARB</td>\n",
       "      <td>Access to electricity (% of population)</td>\n",
       "      <td>EG.ELC.ACCS.ZS</td>\n",
       "      <td>1960</td>\n",
       "      <td>NaN</td>\n",
       "    </tr>\n",
       "    <tr>\n",
       "      <th>4</th>\n",
       "      <td>Arab World</td>\n",
       "      <td>ARB</td>\n",
       "      <td>Access to electricity, rural (% of rural popul...</td>\n",
       "      <td>EG.ELC.ACCS.RU.ZS</td>\n",
       "      <td>1960</td>\n",
       "      <td>NaN</td>\n",
       "    </tr>\n",
       "  </tbody>\n",
       "</table>\n",
       "</div>"
      ],
      "text/plain": [
       "  Country Name Country Code  \\\n",
       "0   Arab World          ARB   \n",
       "1   Arab World          ARB   \n",
       "2   Arab World          ARB   \n",
       "3   Arab World          ARB   \n",
       "4   Arab World          ARB   \n",
       "\n",
       "                                      Indicator Name     Indicator Code  Year  \\\n",
       "0  2005 PPP conversion factor, GDP (LCU per inter...      PA.NUS.PPP.05  1960   \n",
       "1  2005 PPP conversion factor, private consumptio...  PA.NUS.PRVT.PP.05  1960   \n",
       "2  Access to clean fuels and technologies for coo...     EG.CFT.ACCS.ZS  1960   \n",
       "3            Access to electricity (% of population)     EG.ELC.ACCS.ZS  1960   \n",
       "4  Access to electricity, rural (% of rural popul...  EG.ELC.ACCS.RU.ZS  1960   \n",
       "\n",
       "   value  \n",
       "0    NaN  \n",
       "1    NaN  \n",
       "2    NaN  \n",
       "3    NaN  \n",
       "4    NaN  "
      ]
     },
     "execution_count": 4,
     "metadata": {},
     "output_type": "execute_result"
    }
   ],
   "source": [
    "display(data.shape)\n",
    "data.loc[(data['Country Code'] == 'AUS')].head()\n",
    "\n",
    "pd.melt(data, id_vars=['Country Name', 'Country Code', 'Indicator Name', 'Indicator Code'],\n",
    "            var_name='Year', value_name='value').head()"
   ]
  },
  {
   "cell_type": "markdown",
   "metadata": {},
   "source": [
    "## Read data by chunksize"
   ]
  },
  {
   "cell_type": "code",
   "execution_count": 5,
   "metadata": {},
   "outputs": [],
   "source": [
    "dfs = []\n",
    "for chunk in pd.read_csv(filename, chunksize = 1000):\n",
    "    chunk = pd.melt(chunk, id_vars=['Country Name', 'Country Code', 'Indicator Name', 'Indicator Code'],\n",
    "            var_name='Year', value_name='value')\n",
    "    is_urban = chunk['Indicator Name'] =='Urban population (% of total)'\n",
    "    is_AUS = chunk['Country Code'] == 'AUS'\n",
    "    filtered = chunk.loc[(is_urban & is_AUS)]\n",
    "    dfs.append(filtered)"
   ]
  },
  {
   "cell_type": "code",
   "execution_count": 6,
   "metadata": {},
   "outputs": [
    {
     "data": {
      "text/plain": [
       "(59, 6)"
      ]
     },
     "metadata": {},
     "output_type": "display_data"
    },
    {
     "data": {
      "text/html": [
       "<div>\n",
       "<style scoped>\n",
       "    .dataframe tbody tr th:only-of-type {\n",
       "        vertical-align: middle;\n",
       "    }\n",
       "\n",
       "    .dataframe tbody tr th {\n",
       "        vertical-align: top;\n",
       "    }\n",
       "\n",
       "    .dataframe thead th {\n",
       "        text-align: right;\n",
       "    }\n",
       "</style>\n",
       "<table border=\"1\" class=\"dataframe\">\n",
       "  <thead>\n",
       "    <tr style=\"text-align: right;\">\n",
       "      <th></th>\n",
       "      <th>Country Name</th>\n",
       "      <th>Country Code</th>\n",
       "      <th>Indicator Name</th>\n",
       "      <th>Indicator Code</th>\n",
       "      <th>Year</th>\n",
       "      <th>value</th>\n",
       "    </tr>\n",
       "  </thead>\n",
       "  <tbody>\n",
       "    <tr>\n",
       "      <th>771</th>\n",
       "      <td>Australia</td>\n",
       "      <td>AUS</td>\n",
       "      <td>Urban population (% of total)</td>\n",
       "      <td>SP.URB.TOTL.IN.ZS</td>\n",
       "      <td>1960</td>\n",
       "      <td>81.529</td>\n",
       "    </tr>\n",
       "    <tr>\n",
       "      <th>1771</th>\n",
       "      <td>Australia</td>\n",
       "      <td>AUS</td>\n",
       "      <td>Urban population (% of total)</td>\n",
       "      <td>SP.URB.TOTL.IN.ZS</td>\n",
       "      <td>1961</td>\n",
       "      <td>81.941</td>\n",
       "    </tr>\n",
       "    <tr>\n",
       "      <th>2771</th>\n",
       "      <td>Australia</td>\n",
       "      <td>AUS</td>\n",
       "      <td>Urban population (% of total)</td>\n",
       "      <td>SP.URB.TOTL.IN.ZS</td>\n",
       "      <td>1962</td>\n",
       "      <td>82.228</td>\n",
       "    </tr>\n",
       "    <tr>\n",
       "      <th>3771</th>\n",
       "      <td>Australia</td>\n",
       "      <td>AUS</td>\n",
       "      <td>Urban population (% of total)</td>\n",
       "      <td>SP.URB.TOTL.IN.ZS</td>\n",
       "      <td>1963</td>\n",
       "      <td>82.511</td>\n",
       "    </tr>\n",
       "    <tr>\n",
       "      <th>4771</th>\n",
       "      <td>Australia</td>\n",
       "      <td>AUS</td>\n",
       "      <td>Urban population (% of total)</td>\n",
       "      <td>SP.URB.TOTL.IN.ZS</td>\n",
       "      <td>1964</td>\n",
       "      <td>82.792</td>\n",
       "    </tr>\n",
       "  </tbody>\n",
       "</table>\n",
       "</div>"
      ],
      "text/plain": [
       "     Country Name Country Code                 Indicator Name  \\\n",
       "771     Australia          AUS  Urban population (% of total)   \n",
       "1771    Australia          AUS  Urban population (% of total)   \n",
       "2771    Australia          AUS  Urban population (% of total)   \n",
       "3771    Australia          AUS  Urban population (% of total)   \n",
       "4771    Australia          AUS  Urban population (% of total)   \n",
       "\n",
       "         Indicator Code  Year   value  \n",
       "771   SP.URB.TOTL.IN.ZS  1960  81.529  \n",
       "1771  SP.URB.TOTL.IN.ZS  1961  81.941  \n",
       "2771  SP.URB.TOTL.IN.ZS  1962  82.228  \n",
       "3771  SP.URB.TOTL.IN.ZS  1963  82.511  \n",
       "4771  SP.URB.TOTL.IN.ZS  1964  82.792  "
      ]
     },
     "execution_count": 6,
     "metadata": {},
     "output_type": "execute_result"
    }
   ],
   "source": [
    "# display(len(dfs))\n",
    "df = pd.concat(dfs)\n",
    "display(df.shape)\n",
    "df.head()"
   ]
  },
  {
   "cell_type": "code",
   "execution_count": 7,
   "metadata": {},
   "outputs": [
    {
     "name": "stderr",
     "output_type": "stream",
     "text": [
      "/opt/conda/lib/python3.6/site-packages/ipykernel_launcher.py:2: UserWarning: This pattern has match groups. To actually get the groups, use str.extract.\n",
      "  \n",
      "/opt/conda/lib/python3.6/site-packages/ipykernel_launcher.py:3: UserWarning: This pattern has match groups. To actually get the groups, use str.extract.\n",
      "  This is separate from the ipykernel package so we can avoid doing imports until\n"
     ]
    },
    {
     "data": {
      "text/plain": [
       "Country Name       object\n",
       "Country Code       object\n",
       "Indicator Name     object\n",
       "Indicator Code     object\n",
       "Year                int64\n",
       "value             float64\n",
       "dtype: object"
      ]
     },
     "execution_count": 7,
     "metadata": {},
     "output_type": "execute_result"
    }
   ],
   "source": [
    "# remove a plausible record\n",
    "df[\"Year\"].loc[df[\"Year\"].str.contains(r'([a-zA-Z]+)')]\n",
    "df = df.drop(df.index[df[\"Year\"].str.contains(r'([a-zA-Z]+)')])\n",
    "df[\"Year\"] = df[\"Year\"].astype('int')\n",
    "df.dtypes"
   ]
  },
  {
   "cell_type": "code",
   "execution_count": 8,
   "metadata": {},
   "outputs": [
    {
     "data": {
      "image/png": "[encoded data removed]",
      "text/plain": [
       "<Figure size 432x288 with 1 Axes>"
      ]
     },
     "metadata": {
      "image/png": {
       "height": 263,
       "width": 384
      }
     },
     "output_type": "display_data"
    }
   ],
   "source": [
    "% matplotlib inline\n",
    "% config InlineBackend.figure_format = 'retina'\n",
    "import matplotlib.pyplot as plt\n",
    "\n",
    "# Call df.plot.line with x='Year' and y='value'\n",
    "df.plot.line(x='Year', y='value')\n",
    "plt.ylabel('% Urban population')\n",
    "\n",
    "# Call plt.show()\n",
    "plt.show()"
   ]
  },
  {
   "cell_type": "markdown",
   "metadata": {},
   "source": [
    "## Generator"
   ]
  },
  {
   "cell_type": "code",
   "execution_count": 38,
   "metadata": {},
   "outputs": [],
   "source": [
    "filename =  ['/home/jovyan/work/dask_data/flight_data/'+x  for x in  ['jan.csv', 'feb.csv', 'mar.csv', 'apr.csv', 'may.csv']]\n",
    "# Define the generator: dataframes\n",
    "dataframes = (pd.read_csv(file) for file in filename) # generator"
   ]
  },
  {
   "cell_type": "code",
   "execution_count": 39,
   "metadata": {},
   "outputs": [
    {
     "data": {
      "text/plain": [
       "[   ORIGIN_AIRPORT_ID  ORIGIN_AIRPORT_SEQ_ID  ORIGIN_CITY_MARKET_ID  \\\n",
       " 0              10135                1013503                  30135   \n",
       " \n",
       "    DEST_AIRPORT_ID  DEST_AIRPORT_SEQ_ID  DEST_CITY_MARKET_ID  Unnamed: 6  \n",
       " 0            10397              1039705                30397         NaN  ,\n",
       "    ORIGIN_AIRPORT_ID  ORIGIN_AIRPORT_SEQ_ID  ORIGIN_CITY_MARKET_ID  \\\n",
       " 0              10135                1013503                  30135   \n",
       " \n",
       "    DEST_AIRPORT_ID  DEST_AIRPORT_SEQ_ID  DEST_CITY_MARKET_ID  Unnamed: 6  \n",
       " 0            10397              1039705                30397         NaN  ,\n",
       "    ORIGIN_AIRPORT_ID  ORIGIN_AIRPORT_SEQ_ID  ORIGIN_CITY_MARKET_ID  \\\n",
       " 0              10135                1013503                  30135   \n",
       " \n",
       "    DEST_AIRPORT_ID  DEST_AIRPORT_SEQ_ID  DEST_CITY_MARKET_ID  Unnamed: 6  \n",
       " 0            10397              1039705                30397         NaN  ,\n",
       "    ORIGIN_AIRPORT_ID  ORIGIN_AIRPORT_SEQ_ID  ORIGIN_CITY_MARKET_ID  \\\n",
       " 0              10135                1013503                  30135   \n",
       " \n",
       "    DEST_AIRPORT_ID  DEST_AIRPORT_SEQ_ID  DEST_CITY_MARKET_ID  Unnamed: 6  \n",
       " 0            10397              1039705                30397         NaN  ,\n",
       "    ORIGIN_AIRPORT_ID  ORIGIN_AIRPORT_SEQ_ID  ORIGIN_CITY_MARKET_ID  \\\n",
       " 0              10135                1013503                  30135   \n",
       " \n",
       "    DEST_AIRPORT_ID  DEST_AIRPORT_SEQ_ID  DEST_CITY_MARKET_ID  Unnamed: 6  \n",
       " 0            10397              1039705                30397         NaN  ]"
      ]
     },
     "execution_count": 39,
     "metadata": {},
     "output_type": "execute_result"
    }
   ],
   "source": [
    "df_head= [df.head(n=1) for df in dataframes]\n",
    "df_head"
   ]
  },
  {
   "cell_type": "markdown",
   "metadata": {},
   "source": [
    "## [Dask](dask.pydata.org)\n",
    "\n",
    "- Computing with dask.delayed\n",
    "- Working with Numpy Arrays\n",
    "   - Dask arrays:\n",
    "       - Attributes: shape, ndim, nbytes, dtype, size, etc.\n",
    "       - Aggregations: max, min, mean, std, var, sum, prod, etc\n",
    "       - Transformations: reshape, repeat, stack, flatten, transpose, T, etc\n",
    "       - Mathematical operations: round, real, imag, conj, dot, etc.\n",
    "       \n",
    "- Dask Dataframe\n",
    "     - `import dask.dataframe as dd`\n",
    "     - `dd.read_csv()` function\n",
    "          - Accepts single filename or glob pattern (using wildcard *)\n",
    "          - Does not read file immediately (lazy evaluation)\n",
    "          - File(s) need not fit in memory\n",
    "    - Compatibility with Pandas API\n",
    "          - Unavailable in dask.dataframe:\n",
    "               - some unsupported file formats (e.g., .xls, .zip, .gz)\n",
    "               - sorting\n",
    "          - Available in dask.dataframe:\n",
    "               - indexing, selection, & reindexing\n",
    "               - aggregations: .sum(), .mean(), .std(), .min(), .max() etc\n",
    "               - grouping with .groupby()\n",
    "               - datetime conversion with dd.to_datetime()\n",
    "               \n",
    "    - Best use case for Dask\n",
    "          - Computations from Pandas API available in Dask\n",
    "          - Problem size close to limits of RAM, fits on disk\n",
    "          \n",
    "    - Limitations of Dask DataFrames\n",
    "         - Unsupported file formats\n",
    "         - Cleaning files independently\n",
    "         - Nested subdirectories tricky with glob\n",
    "         \n",
    "    - Merging DataFrames\n",
    "         - Pandas: `pd.merge()`\n",
    "         - Pandas: `pd.DataFrame.merge()`\n",
    "         - Dask: `dask.dataframe.merge()`"
   ]
  },
  {
   "cell_type": "code",
   "execution_count": 40,
   "metadata": {},
   "outputs": [],
   "source": [
    "import_or_install(\"dask\")"
   ]
  },
  {
   "cell_type": "code",
   "execution_count": 46,
   "metadata": {},
   "outputs": [],
   "source": [
    "from dask import delayed\n",
    "\n",
    "# Define count_flights\n",
    "@delayed\n",
    "def count_flights(df):\n",
    "    return len(df)\n",
    "\n",
    "# Define count\n",
    "@delayed\n",
    "def count_delayed(df):\n",
    "    return (df['ORIGIN_AIRPORT_ID']<10400).sum()\n",
    "\n",
    "# Define pct\n",
    "@delayed\n",
    "def pct(n_oa, n_flights):\n",
    "    return 100 * sum(n_oa)/sum(n_flights)"
   ]
  },
  {
   "cell_type": "code",
   "execution_count": 47,
   "metadata": {},
   "outputs": [
    {
     "name": "stdout",
     "output_type": "stream",
     "text": [
      "8.10017879088\n"
     ]
    }
   ],
   "source": [
    "n_delayed = []\n",
    "n_flights = []\n",
    "for file in filename:\n",
    "    df = delayed(pd.read_csv(file))\n",
    "    n_delayed.append(count_delayed(df))\n",
    "    n_flights.append(count_flights(df))\n",
    "\n",
    "# Call pct_delayed with n_delayed and n_flights: resul,\n",
    "result = pct(n_delayed, n_flights)\n",
    "\n",
    "# Print the output of result.compute()\n",
    "print(result.compute()) "
   ]
  },
  {
   "cell_type": "markdown",
   "metadata": {},
   "source": [
    "## Dask Bag"
   ]
  },
  {
   "cell_type": "code",
   "execution_count": 40,
   "metadata": {},
   "outputs": [],
   "source": [
    "import dask.bag as db\n",
    "\n",
    "nested_container = [[1,2,3], {},[1.2, 1.3], 'gg', {'k':'v'}]\n",
    "\n",
    "bag =db.from_sequence(nested_container)"
   ]
  },
  {
   "cell_type": "code",
   "execution_count": 45,
   "metadata": {},
   "outputs": [
    {
     "data": {
      "text/plain": [
       "5"
      ]
     },
     "metadata": {},
     "output_type": "display_data"
    },
    {
     "data": {
      "text/plain": [
       "True"
      ]
     },
     "metadata": {},
     "output_type": "display_data"
    },
    {
     "data": {
      "text/plain": [
       "False"
      ]
     },
     "metadata": {},
     "output_type": "display_data"
    }
   ],
   "source": [
    "display(bag.count().compute())\n",
    "display(bag.any().compute())\n",
    "display(bag.all().compute())"
   ]
  },
  {
   "cell_type": "code",
   "execution_count": 52,
   "metadata": {},
   "outputs": [
    {
     "data": {
      "text/plain": [
       "['/home/jovyan/work/dask_data/taxi/green_tripdata_2017-01.csv',\n",
       " '/home/jovyan/work/dask_data/taxi/green_tripdata_2017-02.csv']"
      ]
     },
     "execution_count": 52,
     "metadata": {},
     "output_type": "execute_result"
    }
   ],
   "source": [
    "import glob\n",
    "\n",
    "filename = glob.glob('/home/jovyan/work/dask_data/taxi/*.csv')\n",
    "filename"
   ]
  },
  {
   "cell_type": "markdown",
   "metadata": {},
   "source": [
    "## Functional programming\n",
    "- functions: first-class data\n",
    "- higher-order functions:\n",
    "    - function as `input` or output to functions\n",
    "- Functions replace looop with:\n",
    "    - map: \n",
    "    - filter\n",
    "    - reduction (or aggreation)"
   ]
  },
  {
   "cell_type": "markdown",
   "metadata": {},
   "source": [
    "### Map"
   ]
  },
  {
   "cell_type": "code",
   "execution_count": 54,
   "metadata": {},
   "outputs": [
    {
     "data": {
      "text/plain": [
       "<map at 0x7f5f5d6e6278>"
      ]
     },
     "execution_count": 54,
     "metadata": {},
     "output_type": "execute_result"
    }
   ],
   "source": [
    "def squared(x):\n",
    "    return x ** 2\n",
    "\n",
    "squares = map(squared, [1,3,5])\n",
    "squares"
   ]
  },
  {
   "cell_type": "code",
   "execution_count": 55,
   "metadata": {},
   "outputs": [
    {
     "data": {
      "text/plain": [
       "[1, 9, 25]"
      ]
     },
     "execution_count": 55,
     "metadata": {},
     "output_type": "execute_result"
    }
   ],
   "source": [
    "list(squares)"
   ]
  },
  {
   "cell_type": "markdown",
   "metadata": {},
   "source": [
    "## Filter"
   ]
  },
  {
   "cell_type": "code",
   "execution_count": 57,
   "metadata": {},
   "outputs": [
    {
     "data": {
      "text/plain": [
       "[2, 4, 0]"
      ]
     },
     "execution_count": 57,
     "metadata": {},
     "output_type": "execute_result"
    }
   ],
   "source": [
    "def is_even(x):\n",
    "    return x % 2 == 0\n",
    "    \n",
    "even = filter(is_even, [1,2,3,4,5,0])\n",
    "list(even)"
   ]
  },
  {
   "cell_type": "markdown",
   "metadata": {},
   "source": [
    "## Apply dask bag"
   ]
  },
  {
   "cell_type": "code",
   "execution_count": 62,
   "metadata": {},
   "outputs": [
    {
     "data": {
      "text/plain": [
       "[1, 4, 9, 16]"
      ]
     },
     "metadata": {},
     "output_type": "display_data"
    },
    {
     "data": {
      "text/plain": [
       "[2, 4]"
      ]
     },
     "metadata": {},
     "output_type": "display_data"
    },
    {
     "data": {
      "text/plain": [
       "2"
      ]
     },
     "metadata": {},
     "output_type": "display_data"
    }
   ],
   "source": [
    "num = db.from_sequence([1,2,3,4])\n",
    "display(num.map(squared).compute())\n",
    "display(num.filter(is_even).compute())\n",
    "display(num.filter(is_even).min().compute())"
   ]
  },
  {
   "cell_type": "markdown",
   "metadata": {},
   "source": [
    "## JSON files"
   ]
  },
  {
   "cell_type": "code",
   "execution_count": 70,
   "metadata": {},
   "outputs": [
    {
     "data": {
      "text/plain": [
       "('bplist00Ñ\\x01\\x02_\\x10\\x0fWebMainResourceÕ\\x03\\x04\\x05\\x06\\x07\\x08\\t\\n',\n",
       " '\\x0b\\x0c_\\x10\\x14WebResourceFrameName_\\x10\\x0fWebResourceData_\\x10\\x13WebResourceMIMEType_\\x10\\x1bWebResourceTextEncodingName^WebResourceURLPO\\x11\\x1dé<html><head><style id=\"style-1-cropbar-clipper\">/* Copyright 2014 Evernote Corporation. All rights reserved. */\\n')"
      ]
     },
     "execution_count": 70,
     "metadata": {},
     "output_type": "execute_result"
    }
   ],
   "source": [
    "filename = glob.glob('/home/jovyan/work/dask_data/presidents.json')\n",
    "js = db.read_text(filename  , encoding='latin-1')\n",
    "js.take(2)\n"
   ]
  },
  {
   "cell_type": "markdown",
   "metadata": {},
   "source": [
    "# Example: flight delays"
   ]
  },
  {
   "cell_type": "code",
   "execution_count": 72,
   "metadata": {},
   "outputs": [],
   "source": [
    "from dask import delayed\n",
    "@delayed\n",
    "def read_flights(filename):\n",
    "    \n",
    "    df = pd.read_csv(filename, parse_dates=['FL_DATE'])\n",
    "    # Calculate df['WEATHER_DELAY']\n",
    "    df['WEATHER_DELAY'] = df['WEATHER_DELAY'].replace(0, np.nan)\n",
    "\n",
    "    # Return df\n",
    "    return df"
   ]
  },
  {
   "cell_type": "code",
   "execution_count": 83,
   "metadata": {},
   "outputs": [
    {
     "name": "stdout",
     "output_type": "stream",
     "text": [
      "51.2946768061\n"
     ]
    }
   ],
   "source": [
    "import dask.dataframe as dd\n",
    "import pandas as pd\n",
    "import numpy as np\n",
    "filenames = glob.glob('/home/jovyan/work/dask_data/flightdelays/*.csv')\n",
    "dataframes = []\n",
    "# Loop over filenames with index filename\n",
    "for filename in filenames:\n",
    "    # Apply read_flights to filename; append to dataframes\n",
    "    dataframes.append(read_flights(filename))\n",
    "\n",
    "# Compute flight delays: flight_delays\n",
    "flight_delays = dd.from_delayed(dataframes)\n",
    "\n",
    "# Print average of 'WEATHER_DELAY' column of flight_delays\n",
    "print(flight_delays['WEATHER_DELAY'].mean().compute())"
   ]
  },
  {
   "cell_type": "markdown",
   "metadata": {},
   "source": [
    "# Example: weather"
   ]
  },
  {
   "cell_type": "code",
   "execution_count": 84,
   "metadata": {},
   "outputs": [],
   "source": [
    "# Define @delayed-function read_weather with input filename\n",
    "@delayed\n",
    "def read_weather(filename):\n",
    "    # Read in filename: df\n",
    "    df = pd.read_csv(filename, parse_dates=['Date'])\n",
    "\n",
    "    # Clean 'PrecipitationIn'\n",
    "    df['PrecipitationIn'] = pd.to_numeric(df['PrecipitationIn'], errors='coerce')\n",
    "\n",
    "    # Create the 'Airport' column\n",
    "    df['Airport'] = filename.split('.')[0]\n",
    "\n",
    "    # Return df\n",
    "    return df"
   ]
  },
  {
   "cell_type": "code",
   "execution_count": 89,
   "metadata": {},
   "outputs": [
    {
     "name": "stdout",
     "output_type": "stream",
     "text": [
      "          Date  Max TemperatureF  Mean TemperatureF  Min TemperatureF  \\\n",
      "224 2016-08-12               107                 93                79   \n",
      "\n",
      "     Max Dew PointF  MeanDew PointF  Min DewpointF  Max Humidity  \\\n",
      "224              75              71             66            79   \n",
      "\n",
      "     Mean Humidity  Min Humidity                     ...                       \\\n",
      "224             53            27                     ...                        \n",
      "\n",
      "     Mean VisibilityMiles  Min VisibilityMiles  Max Wind SpeedMPH  \\\n",
      "224                     8                    0                 41   \n",
      "\n",
      "     Mean Wind SpeedMPH  Max Gust SpeedMPH  PrecipitationIn  CloudCover  \\\n",
      "224                  10               54.0             0.82           5   \n",
      "\n",
      "                Events  WindDirDegrees  \\\n",
      "224  Rain-Thunderstorm             214   \n",
      "\n",
      "                                         Airport  \n",
      "224  /home/jovyan/work/dask_data/weatherdata/DFW  \n",
      "\n",
      "[1 rows x 24 columns]\n"
     ]
    }
   ],
   "source": [
    "filenames = glob.glob('/home/jovyan/work/dask_data/weatherdata/*.csv')\n",
    "weather_dfs = []\n",
    "# Loop over filenames with filename\n",
    "for filename in filenames:\n",
    "    # Invoke read_weather on filename; append result to weather_dfs\n",
    "    weather_dfs.append(read_weather(filename))\n",
    "\n",
    "# Call dd.from_delayed() with weather_dfs: weather\n",
    "weather = dd.from_delayed(weather_dfs)\n",
    "\n",
    "# Print result of weather.nlargest(1, 'Max TemperatureF')\n",
    "print(weather.nlargest(1, 'Max TemperatureF').compute())\n"
   ]
  },
  {
   "cell_type": "code",
   "execution_count": 91,
   "metadata": {},
   "outputs": [
    {
     "name": "stdout",
     "output_type": "stream",
     "text": [
      "Airport\n",
      "/home/jovyan/work/dask_data/weatherdata/DEN    5.59\n",
      "/home/jovyan/work/dask_data/weatherdata/ATL    1.94\n",
      "/home/jovyan/work/dask_data/weatherdata/ORD    3.91\n",
      "Name: PrecipitationIn, dtype: float64\n"
     ]
    }
   ],
   "source": [
    "# Make cleaned Boolean Series from weather['Events']: is_snowy\n",
    "is_snowy = weather['Events'].str.contains('Snow').fillna(False)\n",
    "\n",
    "# Create filtered DataFrame with weather.loc & is_snowy: got_snow\n",
    "got_snow = weather.loc[is_snowy]\n",
    "\n",
    "# Groupby 'Airport' column; select 'PrecipitationIn'; aggregate sum(): result\n",
    "result = got_snow.groupby('Airport')['PrecipitationIn'].sum()\n",
    "\n",
    "# Compute & print the value of result\n",
    "print(result.compute())"
   ]
  }
 ],
 "metadata": {
  "kernelspec": {
   "display_name": "Python 3",
   "language": "python",
   "name": "python3"
  },
  "language_info": {
   "codemirror_mode": {
    "name": "ipython",
    "version": 3
   },
   "file_extension": ".py",
   "mimetype": "text/x-python",
   "name": "python",
   "nbconvert_exporter": "python",
   "pygments_lexer": "ipython3",
   "version": "3.6.3"
  }
 },
 "nbformat": 4,
 "nbformat_minor": 2
}
