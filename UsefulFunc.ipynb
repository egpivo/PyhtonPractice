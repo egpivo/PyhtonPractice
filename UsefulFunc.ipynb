{
 "cells": [
  {
   "cell_type": "code",
   "execution_count": null,
   "metadata": {},
   "outputs": [],
   "source": [
    "import numpy as np\n",
    "def compute_log_loss(predicted, actual, eps=1e-14):\n",
    "\"\"\" Computes the logarithmic loss between predicted and\n",
    "actual when these are 1D arrays.\n",
    ":param predicted: The predicted probabilities as floats between 0-1\n",
    ":param actual: The actual binary labels. Either 0 or 1.\n",
    ":param eps (optional): log(0) is inf, so we need to offset our\n",
    "predicted values slightly by eps from 0 or 1.\n",
    "\"\"\"\n",
    "    predicted = np.clip(predicted, eps, 1 - eps)\n",
    "    loss = -1 * np.mean(actual * np.log(predicted)+ (1 - actual) * np.log(1 - predicted))\n",
    "\n",
    "    return loss"
   ]
  }
 ],
 "metadata": {
  "kernelspec": {
   "display_name": "Python 2",
   "language": "python",
   "name": "python2"
  },
  "language_info": {
   "codemirror_mode": {
    "name": "ipython",
    "version": 2
   },
   "file_extension": ".py",
   "mimetype": "text/x-python",
   "name": "python",
   "nbconvert_exporter": "python",
   "pygments_lexer": "ipython2",
   "version": "2.7.13"
  }
 },
 "nbformat": 4,
 "nbformat_minor": 2
}
