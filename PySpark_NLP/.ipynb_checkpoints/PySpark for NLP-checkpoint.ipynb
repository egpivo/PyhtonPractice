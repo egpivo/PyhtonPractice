{
 "cells": [
  {
   "cell_type": "markdown",
   "metadata": {},
   "source": [
    "## PySpark for NLP "
   ]
  },
  {
   "cell_type": "code",
   "execution_count": 1,
   "metadata": {},
   "outputs": [],
   "source": [
    "from pyspark.ml.feature import HashingTF, IDF, Tokenizer"
   ]
  },
  {
   "cell_type": "markdown",
   "metadata": {},
   "source": [
    "### Create a fake example\n",
    "  - Need to import pyspark.sql module for dataframe"
   ]
  },
  {
   "cell_type": "code",
   "execution_count": 8,
   "metadata": {},
   "outputs": [],
   "source": [
    "from pyspark.sql import SparkSession\n",
    "# initialise sparkContext\n",
    "spark = SparkSession.builder \\\n",
    "    .master('local') \\\n",
    "    .appName('muthootSample1') \\\n",
    "    .config('spark.executor.memory', '5gb') \\\n",
    "    .config(\"spark.cores.max\", \"6\") \\\n",
    "    .getOrCreate()"
   ]
  },
  {
   "cell_type": "code",
   "execution_count": 12,
   "metadata": {},
   "outputs": [
    {
     "name": "stdout",
     "output_type": "stream",
     "text": [
      "+-----+--------------------+\n",
      "|label|            sentence|\n",
      "+-----+--------------------+\n",
      "|  0.0|Hi I heard about ...|\n",
      "|  0.0|I wish Java could...|\n",
      "|  1.0|Logistic regressi...|\n",
      "+-----+--------------------+\n",
      "\n",
      "root\n",
      " |-- label: double (nullable = true)\n",
      " |-- sentence: string (nullable = true)\n",
      "\n"
     ]
    }
   ],
   "source": [
    "sentenceData = spark.createDataFrame([\n",
    "    (0.0, \"Hi I heard about Spark\"),\n",
    "    (0.0, \"I wish Java could use case classes\"),\n",
    "    (1.0, \"Logistic regression models are neat\")\n",
    "], [\"label\", \"sentence\"])\n",
    "\n",
    "sentenceData.show()\n",
    "sentenceData.printSchema()"
   ]
  },
  {
   "cell_type": "markdown",
   "metadata": {},
   "source": [
    "## Tokernization"
   ]
  },
  {
   "cell_type": "code",
   "execution_count": 31,
   "metadata": {},
   "outputs": [
    {
     "data": {
      "text/plain": [
       "DataFrame[label: double, sentence: string, terms: array<string>]"
      ]
     },
     "metadata": {},
     "output_type": "display_data"
    },
    {
     "name": "stdout",
     "output_type": "stream",
     "text": [
      "+-----+--------------------+--------------------+\n",
      "|label|            sentence|               terms|\n",
      "+-----+--------------------+--------------------+\n",
      "|  0.0|Hi I heard about ...|[hi, i, heard, ab...|\n",
      "|  0.0|I wish Java could...|[i, wish, java, c...|\n",
      "|  1.0|Logistic regressi...|[logistic, regres...|\n",
      "+-----+--------------------+--------------------+\n",
      "\n",
      "root\n",
      " |-- label: double (nullable = true)\n",
      " |-- sentence: string (nullable = true)\n",
      " |-- terms: array (nullable = true)\n",
      " |    |-- element: string (containsNull = true)\n",
      "\n"
     ]
    }
   ],
   "source": [
    "# initialize an instance\n",
    "tokenizer = Tokenizer(inputCol= \"sentence\", outputCol=\"terms\")\n",
    "termData = tokenizer.transform(sentenceData)\n",
    "display(termData)\n",
    "termData.show()\n",
    "termData.printSchema()"
   ]
  },
  {
   "cell_type": "code",
   "execution_count": 45,
   "metadata": {},
   "outputs": [
    {
     "data": {
      "text/plain": [
       "DataFrame[label: double, sentence: string, terms: array<string>, rawfeature: vector]"
      ]
     },
     "metadata": {},
     "output_type": "display_data"
    },
    {
     "name": "stdout",
     "output_type": "stream",
     "text": [
      "+-----+--------------------+--------------------+--------------------+\n",
      "|label|            sentence|               terms|          rawfeature|\n",
      "+-----+--------------------+--------------------+--------------------+\n",
      "|  0.0|Hi I heard about ...|[hi, i, heard, ab...|(10,[0,5,7,9],[1....|\n",
      "|  0.0|I wish Java could...|[i, wish, java, c...|(10,[2,3,5,7,9],[...|\n",
      "|  1.0|Logistic regressi...|[logistic, regres...|(10,[3,4,5,6,8],[...|\n",
      "+-----+--------------------+--------------------+--------------------+\n",
      "\n",
      "root\n",
      " |-- label: double (nullable = true)\n",
      " |-- sentence: string (nullable = true)\n",
      " |-- terms: array (nullable = true)\n",
      " |    |-- element: string (containsNull = true)\n",
      "\n",
      "+--------------------+\n",
      "|          rawfeature|\n",
      "+--------------------+\n",
      "|(10,[0,5,7,9],[1....|\n",
      "|(10,[2,3,5,7,9],[...|\n",
      "|(10,[3,4,5,6,8],[...|\n",
      "+--------------------+\n",
      "\n"
     ]
    },
    {
     "data": {
      "text/plain": [
       "[Row(label=0.0, sentence='Hi I heard about Spark', terms=['hi', 'i', 'heard', 'about', 'spark'], rawfeature=SparseVector(10, {0: 1.0, 5: 1.0, 7: 2.0, 9: 1.0})),\n",
       " Row(label=0.0, sentence='I wish Java could use case classes', terms=['i', 'wish', 'java', 'could', 'use', 'case', 'classes'], rawfeature=SparseVector(10, {2: 1.0, 3: 1.0, 5: 1.0, 7: 1.0, 9: 3.0})),\n",
       " Row(label=1.0, sentence='Logistic regression models are neat', terms=['logistic', 'regression', 'models', 'are', 'neat'], rawfeature=SparseVector(10, {3: 1.0, 4: 1.0, 5: 1.0, 6: 1.0, 8: 1.0}))]"
      ]
     },
     "execution_count": 45,
     "metadata": {},
     "output_type": "execute_result"
    }
   ],
   "source": [
    "hashingTF = HashingTF(inputCol=\"terms\",  outputCol=\"rawfeature\", numFeatures=10)\n",
    "featureizeData = hashingTF.transform(termData)\n",
    "display(featureizeData)\n",
    "featureizeData.show()\n",
    "termData.printSchema()\n",
    "featureizeData.select(\"rawfeature\").show()\n",
    "a = featureizeData.collect()\n",
    "a"
   ]
  },
  {
   "cell_type": "code",
   "execution_count": 47,
   "metadata": {},
   "outputs": [
    {
     "name": "stdout",
     "output_type": "stream",
     "text": [
      "+-----+--------------------+\n",
      "|label|             feature|\n",
      "+-----+--------------------+\n",
      "|  0.0|(10,[0,5,7,9],[0....|\n",
      "|  0.0|(10,[2,3,5,7,9],[...|\n",
      "|  1.0|(10,[3,4,5,6,8],[...|\n",
      "+-----+--------------------+\n",
      "\n"
     ]
    }
   ],
   "source": [
    "idf = IDF(inputCol=\"rawfeature\", outputCol=\"feature\")\n",
    "idfModel = idf.fit(featureizeData)\n",
    "rescalData = idfModel.transform(featureizeData)\n",
    "\n",
    "rescalData.select(\"label\", \"feature\").show()"
   ]
  }
 ],
 "metadata": {
  "kernelspec": {
   "display_name": "Python 3",
   "language": "python",
   "name": "python3"
  },
  "language_info": {
   "codemirror_mode": {
    "name": "ipython",
    "version": 3
   },
   "file_extension": ".py",
   "mimetype": "text/x-python",
   "name": "python",
   "nbconvert_exporter": "python",
   "pygments_lexer": "ipython3",
   "version": "3.6.3"
  }
 },
 "nbformat": 4,
 "nbformat_minor": 2
}
