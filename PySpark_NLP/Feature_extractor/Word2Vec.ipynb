{
 "cells": [
  {
   "cell_type": "code",
   "execution_count": 1,
   "metadata": {},
   "outputs": [],
   "source": [
    "from pyspark import SparkContext\n",
    "sc = SparkContext(\"local\", \"Word2Vec\")"
   ]
  },
  {
   "cell_type": "markdown",
   "metadata": {},
   "source": [
    "## Word2Vec with skip-gram model"
   ]
  },
  {
   "cell_type": "code",
   "execution_count": 3,
   "metadata": {},
   "outputs": [],
   "source": [
    "from pyspark.ml.feature import Word2Vec\n",
    "\n",
    "inp = sc.textFile(\"data/mllib/sample_lda_data.txt\").map(lambda row: row.split(\" \"))"
   ]
  },
  {
   "cell_type": "code",
   "execution_count": 7,
   "metadata": {},
   "outputs": [
    {
     "data": {
      "text/plain": [
       "pyspark.rdd.PipelinedRDD"
      ]
     },
     "execution_count": 7,
     "metadata": {},
     "output_type": "execute_result"
    }
   ],
   "source": [
    "type(inp)"
   ]
  },
  {
   "cell_type": "code",
   "execution_count": 6,
   "metadata": {},
   "outputs": [],
   "source": [
    "from pyspark.mllib.feature import Word2Vec\n",
    "\n",
    "inp = sc.textFile(\"mllib/sample_lda_data.txt\").map(lambda row: row.split(\" \"))"
   ]
  },
  {
   "cell_type": "code",
   "execution_count": 8,
   "metadata": {},
   "outputs": [
    {
     "data": {
      "text/plain": [
       "[['1', '2', '6', '0', '2', '3', '1', '1', '0', '0', '3'],\n",
       " ['1', '3', '0', '1', '3', '0', '0', '2', '0', '0', '1'],\n",
       " ['1', '4', '1', '0', '0', '4', '9', '0', '1', '2', '0'],\n",
       " ['2', '1', '0', '3', '0', '0', '5', '0', '2', '3', '9'],\n",
       " ['3', '1', '1', '9', '3', '0', '2', '0', '0', '1', '3'],\n",
       " ['4', '2', '0', '3', '4', '5', '1', '1', '1', '4', '0'],\n",
       " ['2', '1', '0', '3', '0', '0', '5', '0', '2', '2', '9'],\n",
       " ['1', '1', '1', '9', '2', '1', '2', '0', '0', '1', '3'],\n",
       " ['4', '4', '0', '3', '4', '2', '1', '3', '0', '0', '0'],\n",
       " ['2', '8', '2', '0', '3', '0', '2', '0', '2', '7', '2'],\n",
       " ['1', '1', '1', '9', '0', '2', '2', '0', '0', '3', '3'],\n",
       " ['4', '1', '0', '0', '4', '5', '1', '3', '0', '1', '0']]"
      ]
     },
     "execution_count": 8,
     "metadata": {},
     "output_type": "execute_result"
    }
   ],
   "source": [
    "gg = inp.collect()\n",
    "\n",
    "gg"
   ]
  },
  {
   "cell_type": "code",
   "execution_count": 25,
   "metadata": {},
   "outputs": [
    {
     "name": "stdout",
     "output_type": "stream",
     "text": [
      "2: 0.5396467447280884\n",
      "0: 0.5298578143119812\n",
      "3: 0.20731261372566223\n",
      "4: -0.03532227501273155\n",
      "9: -0.18452692031860352\n"
     ]
    }
   ],
   "source": [
    "word2vec = Word2Vec().setVectorSize(30)\n",
    "model = word2vec.fit(inp)\n",
    "\n",
    "synonyms = model.findSynonyms('1', 5)\n",
    "\n",
    "for word, cosine_distance in synonyms:\n",
    "    print(\"{}: {}\".format(word, cosine_distance))\n"
   ]
  },
  {
   "cell_type": "code",
   "execution_count": 31,
   "metadata": {},
   "outputs": [],
   "source": [
    "model.transform(\"9\")\n",
    "vec = model.transform(\"9\")"
   ]
  },
  {
   "cell_type": "code",
   "execution_count": 35,
   "metadata": {},
   "outputs": [
    {
     "data": {
      "text/plain": [
       "['9', '4', '3']"
      ]
     },
     "execution_count": 35,
     "metadata": {},
     "output_type": "execute_result"
    }
   ],
   "source": [
    "[s[0] for s in model.findSynonyms(vec, 3)]"
   ]
  }
 ],
 "metadata": {
  "kernelspec": {
   "display_name": "Python 3",
   "language": "python",
   "name": "python3"
  },
  "language_info": {
   "codemirror_mode": {
    "name": "ipython",
    "version": 3
   },
   "file_extension": ".py",
   "mimetype": "text/x-python",
   "name": "python",
   "nbconvert_exporter": "python",
   "pygments_lexer": "ipython3",
   "version": "3.6.3"
  }
 },
 "nbformat": 4,
 "nbformat_minor": 2
}
