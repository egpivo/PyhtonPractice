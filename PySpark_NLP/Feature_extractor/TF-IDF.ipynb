{
 "cells": [
  {
   "cell_type": "code",
   "execution_count": 1,
   "metadata": {},
   "outputs": [],
   "source": [
    "from pyspark.sql import SparkSession\n",
    "spark = SparkSession.builder.master('local').appName('ngram').config('spark.executor.memory', '5gb') \\\n",
    "    .config(\"spark.cores.max\", \"6\") \\\n",
    "    .getOrCreate()"
   ]
  },
  {
   "cell_type": "code",
   "execution_count": 4,
   "metadata": {},
   "outputs": [
    {
     "name": "stdout",
     "output_type": "stream",
     "text": [
      "root\n",
      " |-- id: double (nullable = true)\n",
      " |-- sentence: string (nullable = true)\n",
      " |-- words: array (nullable = true)\n",
      " |    |-- element: string (containsNull = true)\n",
      "\n"
     ]
    }
   ],
   "source": [
    "from pyspark.ml.feature import HashingTF, IDF, Tokenizer\n",
    "\n",
    "sentenceData = spark.createDataFrame([\n",
    "    (0.0, \"Hi I heard about Spark\"),\n",
    "    (1.0, \"I wish Java could use case classes\"),\n",
    "    (2.0, \"Logistic regression models are neat\")\n",
    "], [\"id\", \"sentence\"])\n",
    "\n",
    "tokenizer = Tokenizer(inputCol=\"sentence\", outputCol=\"words\")\n",
    "wrdsData = tokenizer.transform(sentenceData)\n",
    "\n",
    "wrdsData.printSchema()"
   ]
  },
  {
   "cell_type": "code",
   "execution_count": 14,
   "metadata": {},
   "outputs": [
    {
     "name": "stdout",
     "output_type": "stream",
     "text": [
      "root\n",
      " |-- id: double (nullable = true)\n",
      " |-- sentence: string (nullable = true)\n",
      " |-- words: array (nullable = true)\n",
      " |    |-- element: string (containsNull = true)\n",
      " |-- rawFeatures: vector (nullable = true)\n",
      "\n"
     ]
    },
    {
     "data": {
      "text/plain": [
       "None"
      ]
     },
     "metadata": {},
     "output_type": "display_data"
    },
    {
     "name": "stdout",
     "output_type": "stream",
     "text": [
      "+---+--------------------+--------------------+--------------------+\n",
      "| id|            sentence|               words|         rawFeatures|\n",
      "+---+--------------------+--------------------+--------------------+\n",
      "|0.0|Hi I heard about ...|[hi, i, heard, ab...|(10,[0,5,7,9],[1....|\n",
      "|1.0|I wish Java could...|[i, wish, java, c...|(10,[2,3,5,7,9],[...|\n",
      "|2.0|Logistic regressi...|[logistic, regres...|(10,[3,4,5,6,8],[...|\n",
      "+---+--------------------+--------------------+--------------------+\n",
      "\n"
     ]
    }
   ],
   "source": [
    "hashingTF = HashingTF(inputCol=\"words\", outputCol=\"rawFeatures\", numFeatures=10)\n",
    "featurizedData = hashingTF.transform(wrdsData)\n",
    "\n",
    "display(featurizedData.printSchema())\n",
    "featurizedData.show()"
   ]
  },
  {
   "cell_type": "code",
   "execution_count": 17,
   "metadata": {},
   "outputs": [
    {
     "data": {
      "text/plain": [
       "DataFrame[id: double, sentence: string, words: array<string>, rawFeatures: vector]"
      ]
     },
     "execution_count": 17,
     "metadata": {},
     "output_type": "execute_result"
    }
   ],
   "source": [
    "featurizedData.cache()"
   ]
  },
  {
   "cell_type": "code",
   "execution_count": 15,
   "metadata": {},
   "outputs": [
    {
     "data": {
      "text/plain": [
       "pyspark.ml.feature.IDFModel"
      ]
     },
     "metadata": {},
     "output_type": "display_data"
    }
   ],
   "source": [
    "idf = IDF(inputCol=\"rawFeatures\", outputCol=\"feature\")\n",
    "idfModel = idf.fit(featurizedData)\n",
    "\n",
    "display(type(idfModel))"
   ]
  },
  {
   "cell_type": "code",
   "execution_count": 16,
   "metadata": {},
   "outputs": [
    {
     "name": "stdout",
     "output_type": "stream",
     "text": [
      "+-----------------------------------+----------------------------------------------------------------------------------------------------+\n",
      "|sentence                           |feature                                                                                             |\n",
      "+-----------------------------------+----------------------------------------------------------------------------------------------------+\n",
      "|Hi I heard about Spark             |(10,[0,5,7,9],[0.6931471805599453,0.0,0.5753641449035617,0.28768207245178085])                      |\n",
      "|I wish Java could use case classes |(10,[2,3,5,7,9],[0.6931471805599453,0.28768207245178085,0.0,0.28768207245178085,0.8630462173553426])|\n",
      "|Logistic regression models are neat|(10,[3,4,5,6,8],[0.28768207245178085,0.6931471805599453,0.0,0.6931471805599453,0.6931471805599453]) |\n",
      "+-----------------------------------+----------------------------------------------------------------------------------------------------+\n",
      "\n"
     ]
    }
   ],
   "source": [
    "rescaledData = idfModel.transform(featurizedData)\n",
    "rescaledData.select('sentence','feature').show(truncate=False)"
   ]
  },
  {
   "cell_type": "code",
   "execution_count": 45,
   "metadata": {},
   "outputs": [
    {
     "name": "stdout",
     "output_type": "stream",
     "text": [
      "Row(feature=SparseVector(10, {0: 0.6931, 5: 0.0, 7: 0.5754, 9: 0.2877}), id=0.0)\n",
      "Row(feature=SparseVector(10, {2: 0.6931, 3: 0.2877, 5: 0.0, 7: 0.2877, 9: 0.863}), id=1.0)\n",
      "Row(feature=SparseVector(10, {3: 0.2877, 4: 0.6931, 5: 0.0, 6: 0.6931, 8: 0.6931}), id=2.0)\n"
     ]
    }
   ],
   "source": [
    "for features_label in rescaledData.select(\"feature\", \"id\").take(3):\n",
    "        print(features_label) "
   ]
  },
  {
   "cell_type": "code",
   "execution_count": 46,
   "metadata": {},
   "outputs": [],
   "source": [
    "def tf_idf_feature(wordsData, numFeatures=20):\n",
    "    hashingTF = HashingTF(inputCol=\"words\", outputCol=\"rawFeatures\", numFeatures=numFeatures)\n",
    "    featurizedData = hashingTF.transform(wordsData)\n",
    "    idf = IDF(inputCol=\"rawFeatures\", outputCol=\"features\")\n",
    "    idfModel = idf.fit(featurizedData)\n",
    "    rescaledData = idfModel.transform(featurizedData)\n",
    "    \n",
    "    return rescaledData"
   ]
  },
  {
   "cell_type": "code",
   "execution_count": 47,
   "metadata": {},
   "outputs": [],
   "source": [
    "gg = tf_idf_feature(wrdsData, 10)"
   ]
  },
  {
   "cell_type": "markdown",
   "metadata": {},
   "source": [
    "### Test if the results are equivalent"
   ]
  },
  {
   "cell_type": "code",
   "execution_count": 61,
   "metadata": {},
   "outputs": [
    {
     "name": "stdout",
     "output_type": "stream",
     "text": [
      "Row(features=SparseVector(10, {0: 0.6931, 5: 0.0, 7: 0.5754, 9: 0.2877}), id=0.0)\n",
      "Row(features=SparseVector(10, {2: 0.6931, 3: 0.2877, 5: 0.0, 7: 0.2877, 9: 0.863}), id=1.0)\n",
      "Row(features=SparseVector(10, {3: 0.2877, 4: 0.6931, 5: 0.0, 6: 0.6931, 8: 0.6931}), id=2.0)\n",
      "Row(feature=SparseVector(10, {0: 0.6931, 5: 0.0, 7: 0.5754, 9: 0.2877}), id=0.0)\n",
      "Row(feature=SparseVector(10, {2: 0.6931, 3: 0.2877, 5: 0.0, 7: 0.2877, 9: 0.863}), id=1.0)\n",
      "Row(feature=SparseVector(10, {3: 0.2877, 4: 0.6931, 5: 0.0, 6: 0.6931, 8: 0.6931}), id=2.0)\n"
     ]
    }
   ],
   "source": [
    "for features_label in gg.select(\"features\", \"id\").take(3):\n",
    "        print(features_label) \n",
    "        \n",
    "for features_label in rescaledData.select(\"feature\", \"id\").take(3):\n",
    "        print(features_label) "
   ]
  },
  {
   "cell_type": "markdown",
   "metadata": {},
   "source": [
    "### SVD"
   ]
  },
  {
   "cell_type": "code",
   "execution_count": 40,
   "metadata": {},
   "outputs": [],
   "source": [
    "from pyspark.mllib.linalg import Vectors\n",
    "from pyspark.mllib.linalg.distributed import RowMatrix\n",
    "mat = RowMatrix(rescaledData.rdd.map(lambda v: Vectors.dense(v.rawFeatures.toArray()) ))\n",
    "result = mat.computeSVD(k=5)"
   ]
  },
  {
   "cell_type": "code",
   "execution_count": 41,
   "metadata": {},
   "outputs": [],
   "source": [
    "U = result.U       # The U factor is a RowMatrix.\n",
    "s = result.s       # The singular values are stored in a local dense vector.\n",
    "V = result.V       # The V factor is a local dense matrix."
   ]
  },
  {
   "cell_type": "code",
   "execution_count": 42,
   "metadata": {},
   "outputs": [
    {
     "data": {
      "text/plain": [
       "None"
      ]
     },
     "metadata": {},
     "output_type": "display_data"
    },
    {
     "data": {
      "text/plain": [
       "DenseVector([4.1373, 2.1494, 1.8062, 0.0, 0.0])"
      ]
     },
     "metadata": {},
     "output_type": "display_data"
    },
    {
     "data": {
      "text/plain": [
       "DenseMatrix(10, 5, [-0.1244, -0.0, -0.2025, -0.2462, -0.0437, -0.3707, -0.0437, -0.4514, ..., 0.0918, -0.0662, -0.0976, 0.359, -0.0976, 0.2395, -0.0976, -0.208], 0)"
      ]
     },
     "metadata": {},
     "output_type": "display_data"
    }
   ],
   "source": [
    "display(U)\n",
    "display(s)\n",
    "display(V)"
   ]
  }
 ],
 "metadata": {
  "kernelspec": {
   "display_name": "Python 3",
   "language": "python",
   "name": "python3"
  },
  "language_info": {
   "codemirror_mode": {
    "name": "ipython",
    "version": 3
   },
   "file_extension": ".py",
   "mimetype": "text/x-python",
   "name": "python",
   "nbconvert_exporter": "python",
   "pygments_lexer": "ipython3",
   "version": "3.6.3"
  }
 },
 "nbformat": 4,
 "nbformat_minor": 2
}
