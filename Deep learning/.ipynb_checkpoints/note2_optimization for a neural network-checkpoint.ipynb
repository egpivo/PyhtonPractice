{
 "cells": [
  {
   "cell_type": "markdown",
   "metadata": {},
   "source": [
    "# Note 2: optimization for a neural network\n",
    "WT Wang                     \n",
    "May, 03, 2017\n",
    "\n",
    "------\n",
    "\n",
    "## Loss function\n",
    "When we fit the model based on the certain weights, we can also calculate the prediction errors, i.e., $e_i({\\bf{w}}) = y_i - \\hat{y}_i({\\bf{w}})$. Then, we can summarize the errors into a performance measurement, i.e., a loss function. For example, a squared error loss function is $L_1({\\bf{w}}) = \\sum_{i=1}^n e^2_i({\\bf{w}})$; a absolute error loss functionis $L_2({\\bf{w}}) = \\sum_{i=1}^n |e_i({\\bf{w}})|$\n",
    "\n",
    "- Aggregates errors in predictions from many data points into single number\n",
    "- Measure of model’s predictive performance\n",
    "    - Error = Actual - Predicted\n",
    "    - Squared error loss function = Error^2\n",
    "    \n",
    "- Lower loss function value means a better model\n",
    "- Goal: Find the weights that give the lowest value for the loss function\n",
    "- Gradient descent:\n",
    "    - Imagine you are in a pitch dark field\n",
    "    - Want to find the lowest point\n",
    "    - Feel the ground to see how it slopes\n",
    "    - Take a small step downhill\n",
    "    - Repeat until it is uphill in every direction"
   ]
  },
  {
   "cell_type": "code",
   "execution_count": null,
   "metadata": {
    "collapsed": true
   },
   "outputs": [],
   "source": []
  },
  {
   "cell_type": "code",
   "execution_count": null,
   "metadata": {
    "collapsed": true
   },
   "outputs": [],
   "source": []
  },
  {
   "cell_type": "code",
   "execution_count": null,
   "metadata": {
    "collapsed": true
   },
   "outputs": [],
   "source": []
  },
  {
   "cell_type": "code",
   "execution_count": null,
   "metadata": {
    "collapsed": true
   },
   "outputs": [],
   "source": []
  },
  {
   "cell_type": "code",
   "execution_count": null,
   "metadata": {
    "collapsed": true
   },
   "outputs": [],
   "source": []
  },
  {
   "cell_type": "code",
   "execution_count": null,
   "metadata": {
    "collapsed": true
   },
   "outputs": [],
   "source": []
  },
  {
   "cell_type": "code",
   "execution_count": null,
   "metadata": {
    "collapsed": true
   },
   "outputs": [],
   "source": []
  },
  {
   "cell_type": "code",
   "execution_count": null,
   "metadata": {
    "collapsed": true
   },
   "outputs": [],
   "source": []
  },
  {
   "cell_type": "code",
   "execution_count": null,
   "metadata": {
    "collapsed": true
   },
   "outputs": [],
   "source": []
  }
 ],
 "metadata": {
  "anaconda-cloud": {},
  "kernelspec": {
   "display_name": "Python [default]",
   "language": "python",
   "name": "python2"
  },
  "language_info": {
   "codemirror_mode": {
    "name": "ipython",
    "version": 2
   },
   "file_extension": ".py",
   "mimetype": "text/x-python",
   "name": "python",
   "nbconvert_exporter": "python",
   "pygments_lexer": "ipython2",
   "version": "2.7.12"
  }
 },
 "nbformat": 4,
 "nbformat_minor": 1
}
