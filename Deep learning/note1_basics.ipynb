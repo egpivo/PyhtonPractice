{
 "cells": [
  {
   "cell_type": "markdown",
   "metadata": {},
   "source": [
    "# Note 1: basics for a neural network\n",
    "WT Wang                     \n",
    "May, 02, 2017\n",
    "\n",
    "------\n",
    "\n",
    "## 1. Activation function\n",
    "- An \"activation function\" is a function applied at each node.\n",
    "\n",
    "### rectified linear unit  (reLU)\n",
    "$$f(x) = \\max(0, x)$, $x \\in (-\\infty, \\infty)$$\n",
    "- $x$ is the input to a neuron\n",
    "\n",
    "### softplus function (a smoothed version of reLU)\n",
    "$$f(x) = \\log(1+e^x)$$"
   ]
  },
  {
   "cell_type": "code",
   "execution_count": 25,
   "metadata": {
    "collapsed": false
   },
   "outputs": [],
   "source": [
    "def reLU(input):\n",
    "    \n",
    "    # Calculate the value for the output of the reLU function: output\n",
    "    output = max(0, input)\n",
    "    \n",
    "    # Return the value just calculated\n",
    "    return(output)\n",
    "\n",
    "\n",
    "def softplus(input):\n",
    "    from math import exp, log\n",
    "    # Calculate the value for the output of the softplus function: output\n",
    "    output = log(1+ exp(input))\n",
    "    \n",
    "    # Return the value just calculated\n",
    "    return(output)"
   ]
  },
  {
   "cell_type": "markdown",
   "metadata": {
    "collapsed": true
   },
   "source": [
    "### Visualization of reLU and softplus\n",
    "\n",
    "- Goal: To see the difference b/w these two functions."
   ]
  },
  {
   "cell_type": "code",
   "execution_count": 26,
   "metadata": {
    "collapsed": false
   },
   "outputs": [
    {
     "data": {
      "image/png": "[encoded data removed]",
      "text/plain": [
       "<matplotlib.figure.Figure at 0x10d6d0a50>"
      ]
     },
     "metadata": {},
     "output_type": "display_data"
    }
   ],
   "source": [
    "from matplotlib import pyplot as plt\n",
    "import numpy as np\n",
    "\n",
    "x = np.linspace(-5, 5, 256, endpoint=True)\n",
    "\n",
    "a1 = []\n",
    "a2 = []\n",
    "for i in range(0,256):\n",
    "    a1.append(reLU(x[i]))\n",
    "    a2.append(softplus(x[i]))\n",
    "\n",
    "plt.plot(x, a1, color=\"blue\", linewidth=2.5, linestyle=\"-\", label=\"reLU\")\n",
    "plt.plot(x, a2, color=\"red\",  linewidth=2.5, linestyle=\"-\", label=\"softplus\")\n",
    "\n",
    "plt.legend(loc='upper left')\n",
    "ax = plt.gca()  # gca stands for 'get current axis'\n",
    "ax.spines['right'].set_color('none')\n",
    "ax.spines['top'].set_color('none')\n",
    "ax.xaxis.set_ticks_position('bottom')\n",
    "ax.spines['bottom'].set_position(('data',0))\n",
    "ax.yaxis.set_ticks_position('left')\n",
    "ax.spines['left'].set_position(('data',0))\n",
    "\n",
    "plt.show()"
   ]
  },
  {
   "cell_type": "markdown",
   "metadata": {},
   "source": [
    "## 2. Forward propagation in one layer\n",
    "\n",
    "Let each of the $M$ hidden layer nodes, $a_j$, be a linear combination of the input variables:\n",
    "$$\n",
    "    a_j = \\sum_{i = 1}^{p_1} \\omega_{1ij}x_{i} + \\theta_{1i},\n",
    "$$\n",
    "where $x_1, \\dots, x_{p_1}$ are $p_1$ input variables, $\\omega_{11j}, \\dots, \\omega_{1{p_1}j}$ are $p_1$ unknown parameters, and $\\theta_{1j}$ is an unknown bias node. The prediction with one hidden layer is\n",
    "$$\n",
    "   \\hat{y}_k = \\tilde{f}\\left(\\sum_{j = 1}^M \\gamma_{jk}\\cdot f(a_j) + \\beta_{j}\\right),\n",
    "$$\n",
    "where $\\gamma_{1k}, \\dots, \\gamma_{Mk}$ are $M$ unknown parameters, $\\beta_{j}$ is an unknown bias node, $f(\\cdot)$ and $\\tilde{f}(\\cdot)$ are the activation functions for the hidden nodes and the response respectively, and $k = 1, \\dots, n$.\n",
    "\n",
    "\n",
    "### Practice\n",
    "For the next example, we apply the reLU and an identity function as $f(\\cdot)$ and $\\tilde{f}(\\cdot)$, respectively. The weights are given.\n",
    "\n",
    "#### Define a prediction function\n",
    "Here, we follow the above equation w/o bias parameters."
   ]
  },
  {
   "cell_type": "code",
   "execution_count": 27,
   "metadata": {
    "collapsed": true
   },
   "outputs": [],
   "source": [
    "# Define predict_with_network()\n",
    "def predict_with_one_layer(input_data_row, weights):\n",
    "\n",
    "    # Calculate node 0 value\n",
    "    node_0_input =  (input_data_row * weights['node_0']).sum()\n",
    "    node_0_output = reLU(node_0_input)\n",
    "\n",
    "    # Calculate node 1 value\n",
    "    node_1_input = (input_data_row * weights['node_1']).sum()\n",
    "    node_1_output = reLU(node_1_input)\n",
    "\n",
    "    # Put node values into array: hidden_layer_outputs\n",
    "    hidden_layer_outputs = np.array([node_0_output, node_1_output])\n",
    "    \n",
    "    # Calculate model output\n",
    "    input_to_final_layer = (hidden_layer_outputs * weights['output']).sum()\n",
    "    model_output = reLU(input_to_final_layer)\n",
    "    \n",
    "    # Return model output\n",
    "    return(model_output)"
   ]
  },
  {
   "cell_type": "markdown",
   "metadata": {},
   "source": [
    "#### Toy example\n",
    "Set the weights as ${\\bf{\\omega}}_1 = \\left[ \\begin{array}{cc}\n",
    "-5 & 5 \\\\\n",
    "-1 & 1\\\\\n",
    "\\end{array} \\right]$, ${\\bf{\\gamma}} = \\left[ \\begin{array}{c}\n",
    "3  \\\\\n",
    "7\\\\\n",
    "\\end{array} \\right]$, and the input data as ${\\bf{x}} = \\left[ \\begin{array}{c}\n",
    "7 \\\\\n",
    "5\\\\\n",
    "\\end{array} \\right]$. Use `predict_with_one_layer()` to calculate the prediciton as follows. "
   ]
  },
  {
   "cell_type": "code",
   "execution_count": 28,
   "metadata": {
    "collapsed": false
   },
   "outputs": [
    {
     "name": "stdout",
     "output_type": "stream",
     "text": [
      "30\n"
     ]
    }
   ],
   "source": [
    "# Example\n",
    "import numpy as np\n",
    "\n",
    "weights = {\n",
    " 'node_0': np.array([ 5, -5]),\n",
    " 'node_1': np.array([-1,  1]),\n",
    " 'output': np.array([3, 7])}\n",
    "input_data = np.array([7, 5])\n",
    "output = predict_with_one_layer(input_data, weights)\n",
    "print(output)"
   ]
  },
  {
   "cell_type": "markdown",
   "metadata": {},
   "source": [
    "## 3. Forward propagation in two layers\n",
    "Similar to the prediction with one hidden layer, the prediction with two hidden layers is\n",
    "$$\n",
    "   \\hat{y}_k = \\tilde{f}\\left(\\sum_{j = 1}^M \\gamma_{jk}\\cdot f\\left(\\sum_{\\ell = 1}^{p_2} \\omega_{2\\ell j} \\cdot f(a_{\\ell j}) + \\theta_{2\\ell}\\right) + \\beta_{j}\\right),\n",
    "$$\n",
    "where $\\omega_{21j}, \\dots, \\omega_{2{p_2}j}$ are $p_2$ unknown parameters, $\\theta_{2\\ell}$ is an unknown bias node.\n",
    "\n",
    "\n",
    "### Practice\n",
    "For the next example, we apply the reLU and an identity function as $f(\\cdot)$ and $\\tilde{f}(\\cdot)$, respectively. The weights are given.\n",
    "\n",
    "#### Define a prediction function with two layers\n",
    "Here, we follow the above equation w/o bias parameters, and set $p_1 =p_2$."
   ]
  },
  {
   "cell_type": "code",
   "execution_count": 29,
   "metadata": {
    "collapsed": true
   },
   "outputs": [],
   "source": [
    "def predict_with_two_layers(input_data, weights):\n",
    "    # Calculate node 0 in the first hidden layer\n",
    "    node_0_0_input = (input_data * weights['node_0_0']).sum()\n",
    "    node_0_0_output = reLU(node_0_0_input)\n",
    "\n",
    "    # Calculate node 1 in the first hidden layer\n",
    "    node_0_1_input = (input_data * weights['node_0_1']).sum()\n",
    "    node_0_1_output = reLU(node_0_1_input)\n",
    "\n",
    "    # Put node values into array: hidden_0_outputs\n",
    "    hidden_0_outputs = np.array([node_0_0_output, node_0_1_output])\n",
    "    \n",
    "    # Calculate node 0 in the second hidden layer\n",
    "    node_1_0_input = (hidden_0_outputs * weights['node_1_0']).sum()\n",
    "    node_1_0_output = reLU(node_1_0_input)\n",
    "\n",
    "    # Calculate node 1 in the second hidden layer\n",
    "    node_1_1_input = (hidden_0_outputs * weights['node_1_1']).sum()\n",
    "    node_1_1_output = reLU(node_1_1_input)\n",
    "\n",
    "    # Put node values into array: hidden_1_outputs\n",
    "    hidden_1_outputs = np.array([node_1_0_output, node_1_1_output])\n",
    "\n",
    "    # Calculate model output: model_output\n",
    "    model_output = (hidden_1_outputs * weights['output']).sum()\n",
    "    \n",
    "    # Return model_output\n",
    "    return(model_output)"
   ]
  },
  {
   "cell_type": "markdown",
   "metadata": {},
   "source": [
    "#### Toy example\n",
    "Set the weights as ${\\bf{\\omega}}_1 = \\left[ \\begin{array}{cc}\n",
    "-5 & 5 \\\\\n",
    "-1 & 3\\\\\n",
    "\\end{array} \\right]$, ${\\bf{\\omega}}_2 = \\left[ \\begin{array}{cc}\n",
    "-3 & 4 \\\\\n",
    "2 & 2\\\\\n",
    "\\end{array} \\right]$, ${\\bf{\\gamma}} = \\left[ \\begin{array}{c}\n",
    "2 \\\\\n",
    "7\\\\\n",
    "\\end{array} \\right]$, and the input data as ${\\bf{x}} = \\left[ \\begin{array}{c}\n",
    "7 \\\\\n",
    "5\\\\\n",
    "\\end{array} \\right]$. Use `predict_with_two_layer()` to calculate the prediciton as follows. "
   ]
  },
  {
   "cell_type": "code",
   "execution_count": 30,
   "metadata": {
    "collapsed": false
   },
   "outputs": [
    {
     "name": "stdout",
     "output_type": "stream",
     "text": [
      "176\n"
     ]
    }
   ],
   "source": [
    "# Example\n",
    "import numpy as np\n",
    "\n",
    "weights = {'node_0_0': np.array([-5, 5]),\n",
    " 'node_0_1': np.array([ -1, 3]),\n",
    " 'node_1_0': np.array([-3,  4]),\n",
    " 'node_1_1': np.array([2, 2]),\n",
    " 'output': np.array([2, 7])}\n",
    "input_data = np.array([7, 5])\n",
    "output = predict_with_two_layers(input_data, weights)\n",
    "print(output)"
   ]
  }
 ],
 "metadata": {
  "anaconda-cloud": {},
  "kernelspec": {
   "display_name": "Python [default]",
   "language": "python",
   "name": "python2"
  },
  "language_info": {
   "codemirror_mode": {
    "name": "ipython",
    "version": 2
   },
   "file_extension": ".py",
   "mimetype": "text/x-python",
   "name": "python",
   "nbconvert_exporter": "python",
   "pygments_lexer": "ipython2",
   "version": "2.7.12"
  }
 },
 "nbformat": 4,
 "nbformat_minor": 1
}
