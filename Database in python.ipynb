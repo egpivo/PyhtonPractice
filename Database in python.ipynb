{
 "cells": [
  {
   "cell_type": "markdown",
   "metadata": {},
   "source": [
    "# Databases in python\n",
    "\n",
    "- Types of databases:\n",
    "    - SQLite\n",
    "    - PostgreSQL\n",
    "    - MySQL\n",
    "    - MS SQL\n",
    "    - Oracle\n",
    "    \n",
    "- Python SQL toolkit: SQLAlchemy\n",
    "     - Relational Model focused\n",
    "     - ORM(Object Relational Mapper) (User Data Model focused)\n",
    "     - the database to be a relational algebra engine, not just a collection of tables."
   ]
  },
  {
   "cell_type": "code",
   "execution_count": 14,
   "metadata": {
    "collapsed": false
   },
   "outputs": [
    {
     "name": "stdout",
     "output_type": "stream",
     "text": [
      "<bound method Engine.table_names of Engine(sqlite:///test.sqlite)>\n"
     ]
    }
   ],
   "source": [
    "# Import create_engine\n",
    "from sqlalchemy import create_engine\n",
    "\n",
    "# Create an engine that connects to the test.sqlite file: engine\n",
    "engine = create_engine('sqlite:///test.sqlite')\n",
    "\n",
    "# Print table names\n",
    "print(engine.table_names)"
   ]
  },
  {
   "cell_type": "markdown",
   "metadata": {},
   "source": [
    "## Create a new table\n",
    "  - MetaData: \n",
    "      - a container object that keeps together many different features of a database (or multiple databases) being described.\n",
    "      - describing the database schema\n",
    "      - a thread-safe object for read operations. \n",
    "  - Table: a object that \n",
    "     - constructs a unique instance of itself based on its name and optional schema name within the given MetaData object.\n",
    "     - loads information about itself from the corresponding database schema object already existing within the database"
   ]
  },
  {
   "cell_type": "code",
   "execution_count": 22,
   "metadata": {
    "collapsed": false
   },
   "outputs": [],
   "source": [
    "from sqlalchemy import MetaData, Table, Column, String, Integer\n",
    "\n",
    "metadata = MetaData()\n",
    "\n",
    "# Create a new table\n",
    "carprice = Table('carprice', metadata,\n",
    "    Column('LICSNO', String(16), primary_key=True),\n",
    "    Column('price', Integer, nullable=False),\n",
    "    Column('contact', String(60), key='email'))\n",
    "\n",
    "carprice.create(engine)"
   ]
  },
  {
   "cell_type": "markdown",
   "metadata": {},
   "source": [
    "## Reflection: \n",
    "  - automatically load tables from a database\n",
    "  - find out the structure of an existing SQL database\n",
    "  - repr()"
   ]
  },
  {
   "cell_type": "code",
   "execution_count": 28,
   "metadata": {
    "collapsed": false
   },
   "outputs": [
    {
     "name": "stdout",
     "output_type": "stream",
     "text": [
      "Table('carprice', MetaData(bind=None), Column('LICSNO', String(length=16), table=<carprice>, primary_key=True, nullable=False), Column('price', Integer(), table=<carprice>, nullable=False), Column('contact', String(length=60), table=<carprice>, key='email'), schema=None)\n",
      "['LICSNO', 'price', 'email']\n",
      "Table('carprice', MetaData(bind=None), Column('LICSNO', String(length=16), table=<carprice>, primary_key=True, nullable=False), Column('price', Integer(), table=<carprice>, nullable=False), Column('contact', String(length=60), table=<carprice>, key='email'), schema=None)\n"
     ]
    }
   ],
   "source": [
    "# Reflect carprice table from the engine: test\n",
    "test = Table('carprice', metadata, autoload=True, autoload_with=engine)\n",
    "\n",
    "# Print test table metadata\n",
    "print(repr(test))\n"
   ]
  },
  {
   "cell_type": "code",
   "execution_count": 29,
   "metadata": {
    "collapsed": false
   },
   "outputs": [
    {
     "name": "stdout",
     "output_type": "stream",
     "text": [
      "['LICSNO', 'price', 'email']\n",
      "Table('carprice', MetaData(bind=None), Column('LICSNO', String(length=16), table=<carprice>, primary_key=True, nullable=False), Column('price', Integer(), table=<carprice>, nullable=False), Column('contact', String(length=60), table=<carprice>, key='email'), schema=None)\n"
     ]
    }
   ],
   "source": [
    "# Another way to print the table information\n",
    "\n",
    "# Print the column names\n",
    "print(test.columns.keys())\n",
    "\n",
    "# Print full table metadata\n",
    "print(repr(metadata.tables['carprice']))"
   ]
  },
  {
   "cell_type": "markdown",
   "metadata": {},
   "source": [
    "## Selecting data from a Table with SQLAlchemy: raw SQL\n",
    "    - .execute() method on our connection, we can leverage a raw SQL query to query all the records in our census table. \n",
    "    - .fetchall() method to get our results "
   ]
  },
  {
   "cell_type": "code",
   "execution_count": null,
   "metadata": {
    "collapsed": true
   },
   "outputs": [],
   "source": [
    "connection = engine.connect()\n",
    "# Build select statement for census table: stmt\n",
    "stmt = \"SELECT * FROM census\"\n",
    "\n",
    "# Execute the statement and fetch the results: results\n",
    "results = connection.execute(stmt).fetchall()\n",
    "\n",
    "# Print Results\n",
    "print(results)"
   ]
  },
  {
   "cell_type": "code",
   "execution_count": null,
   "metadata": {
    "collapsed": true
   },
   "outputs": [],
   "source": [
    "# Import select\n",
    "from sqlalchemy import select\n",
    "\n",
    "# Reflect census table via engine: census\n",
    "census = Table('census', metadata, autoload=True, autoload_with=engine)\n",
    "\n",
    "# Build select statement for census table: stmt\n",
    "stmt = select([census])\n",
    "\n",
    "# Print the emitted statement to see the SQL emitted\n",
    "print(stmt)\n",
    "\n",
    "# Execute the statement and print the results\n",
    "results = connection.execute(stmt).fetchall()\n",
    "\n",
    "# Get the first row of the results by using an index: first_row\n",
    "first_row = results[0]\n",
    "\n",
    "# Print the first row of the results\n",
    "print(first_row)\n",
    "\n",
    "# Print the first column of the first row by using an index\n",
    "print(first_row[0])\n",
    "\n",
    "# Print the 'state' column of the first row by using its name\n",
    "print(first_row['state'])\n"
   ]
  }
 ],
 "metadata": {
  "anaconda-cloud": {},
  "kernelspec": {
   "display_name": "Python [default]",
   "language": "python",
   "name": "python2"
  },
  "language_info": {
   "codemirror_mode": {
    "name": "ipython",
    "version": 2
   },
   "file_extension": ".py",
   "mimetype": "text/x-python",
   "name": "python",
   "nbconvert_exporter": "python",
   "pygments_lexer": "ipython2",
   "version": "2.7.12"
  }
 },
 "nbformat": 4,
 "nbformat_minor": 1
}
