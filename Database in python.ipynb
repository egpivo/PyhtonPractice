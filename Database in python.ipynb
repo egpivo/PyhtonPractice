{
 "cells": [
  {
   "cell_type": "markdown",
   "metadata": {},
   "source": [
    "### Databases in python\n",
    "\n",
    "- Types of databases:\n",
    "    - SQLite\n",
    "    - PostgreSQL\n",
    "    - MySQL\n",
    "    - MS SQL\n",
    "    - Oracle\n",
    "    \n",
    "- Python SQL toolkit: SQLAlchemy\n",
    "     - Relational Model focused\n",
    "     - ORM(Object Relational Mapper) (User Data Model focused)\n",
    "     - the database to be a relational algebra engine, not just a collection of tables."
   ]
  },
  {
   "cell_type": "code",
   "execution_count": 14,
   "metadata": {
    "collapsed": false
   },
   "outputs": [
    {
     "name": "stdout",
     "output_type": "stream",
     "text": [
      "<bound method Engine.table_names of Engine(sqlite:///test.sqlite)>\n"
     ]
    }
   ],
   "source": [
    "# Import create_engine\n",
    "from sqlalchemy import create_engine\n",
    "\n",
    "# Create an engine that connects to the test.sqlite file: engine\n",
    "engine = create_engine('sqlite:///test.sqlite')\n",
    "\n",
    "# Print table names\n",
    "print(engine.table_names)"
   ]
  },
  {
   "cell_type": "markdown",
   "metadata": {},
   "source": [
    "- Create a new table\n",
    "  1. MetaData: a container object that keeps together many different features of a database (or multiple databases) being described."
   ]
  },
  {
   "cell_type": "code",
   "execution_count": 22,
   "metadata": {
    "collapsed": false
   },
   "outputs": [],
   "source": [
    "from sqlalchemy import MetaData, Table, Column, String, Integer\n",
    "\n",
    "metadata = MetaData()\n",
    "\n",
    "# Create a new table\n",
    "carprice = Table('carprice', metadata,\n",
    "    Column('LICSNO', String(16), primary_key=True),\n",
    "    Column('price', Integer, nullable=False),\n",
    "    Column('contact', String(60), key='email'))\n",
    "\n",
    "carprice.create(engine)"
   ]
  },
  {
   "cell_type": "markdown",
   "metadata": {},
   "source": [
    "- Reflection: automatically load tables from a database\n",
    "  1. MetaData: a container object that keeps together many different features of a database (or multiple databases) being described."
   ]
  },
  {
   "cell_type": "code",
   "execution_count": 28,
   "metadata": {
    "collapsed": false
   },
   "outputs": [
    {
     "name": "stdout",
     "output_type": "stream",
     "text": [
      "Table('carprice', MetaData(bind=None), Column('LICSNO', String(length=16), table=<carprice>, primary_key=True, nullable=False), Column('price', Integer(), table=<carprice>, nullable=False), Column('contact', String(length=60), table=<carprice>, key='email'), schema=None)\n",
      "['LICSNO', 'price', 'email']\n",
      "Table('carprice', MetaData(bind=None), Column('LICSNO', String(length=16), table=<carprice>, primary_key=True, nullable=False), Column('price', Integer(), table=<carprice>, nullable=False), Column('contact', String(length=60), table=<carprice>, key='email'), schema=None)\n"
     ]
    }
   ],
   "source": [
    "# Reflect carprice table from the engine: test\n",
    "test = Table('carprice', metadata, autoload=True, autoload_with=engine)\n",
    "\n",
    "# Print test table metadata\n",
    "print(repr(test))\n"
   ]
  },
  {
   "cell_type": "code",
   "execution_count": 29,
   "metadata": {
    "collapsed": false
   },
   "outputs": [
    {
     "name": "stdout",
     "output_type": "stream",
     "text": [
      "['LICSNO', 'price', 'email']\n",
      "Table('carprice', MetaData(bind=None), Column('LICSNO', String(length=16), table=<carprice>, primary_key=True, nullable=False), Column('price', Integer(), table=<carprice>, nullable=False), Column('contact', String(length=60), table=<carprice>, key='email'), schema=None)\n"
     ]
    }
   ],
   "source": [
    "# Another way to print the table information\n",
    "\n",
    "# Print the column names\n",
    "print(test.columns.keys())\n",
    "\n",
    "# Print full table metadata\n",
    "print(repr(metadata.tables['carprice']))"
   ]
  }
 ],
 "metadata": {
  "anaconda-cloud": {},
  "kernelspec": {
   "display_name": "Python [default]",
   "language": "python",
   "name": "python2"
  },
  "language_info": {
   "codemirror_mode": {
    "name": "ipython",
    "version": 2
   },
   "file_extension": ".py",
   "mimetype": "text/x-python",
   "name": "python",
   "nbconvert_exporter": "python",
   "pygments_lexer": "ipython2",
   "version": "2.7.12"
  }
 },
 "nbformat": 4,
 "nbformat_minor": 1
}
